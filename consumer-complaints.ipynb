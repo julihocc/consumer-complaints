{
 "cells": [
  {
   "cell_type": "markdown",
   "id": "749112e5",
   "metadata": {
    "papermill": {
     "duration": 0.026218,
     "end_time": "2024-07-16T17:26:11.412351",
     "exception": false,
     "start_time": "2024-07-16T17:26:11.386133",
     "status": "completed"
    },
    "tags": []
   },
   "source": [
    "# Financial Product Classification Model Based on Received Complaints\n",
    "\n",
    "**Presented by Dr. Juliho Castillo**.\n",
    "\n",
    "In this project, we will analyze the [Consumer Complaints](https://www.kaggle.com/dushyantv/consumer_complaints) dataset, which includes complaints received against financial institutions in the United States over a period from 2012 to 2016.\n",
    "\n",
    "In the first part of the work, we will manipulate and clean the data so that they are useful for analysis. In the second part, we will analyze this data in both its dimensions and its temporal behavior, to finally create a model that allows us to predict the product category based on other characteristics.\n",
    "\n",
    "Due to time and resource constraints, we will use a sample of the entire dataset. However, the parameters with which this sample was chosen can be easily changed so that the algorithm applies to the entire dataset.\n"
   ]
  },
  {
   "cell_type": "markdown",
   "id": "3520f119",
   "metadata": {
    "papermill": {
     "duration": 0.025245,
     "end_time": "2024-07-16T17:26:11.464672",
     "exception": false,
     "start_time": "2024-07-16T17:26:11.439427",
     "status": "completed"
    },
    "tags": []
   },
   "source": [
    "# Data Preprocessing\n",
    "\n",
    "## Importing Modules and Data\n",
    "\n",
    "- Let's import those that modules we will use during the project\n",
    "- We check if a GPU is available\n",
    "- We import the data into a dataframe df.\n"
   ]
  },
  {
   "cell_type": "code",
   "execution_count": 1,
   "id": "09f06c96",
   "metadata": {
    "execution": {
     "iopub.execute_input": "2024-07-16T17:26:11.516856Z",
     "iopub.status.busy": "2024-07-16T17:26:11.516502Z",
     "iopub.status.idle": "2024-07-16T17:26:31.162548Z",
     "shell.execute_reply": "2024-07-16T17:26:31.161473Z"
    },
    "papermill": {
     "duration": 19.675097,
     "end_time": "2024-07-16T17:26:31.165161",
     "exception": false,
     "start_time": "2024-07-16T17:26:11.490064",
     "status": "completed"
    },
    "tags": []
   },
   "outputs": [
    {
     "name": "stdout",
     "output_type": "stream",
     "text": [
      "Collecting GPUtil\r\n",
      "  Downloading GPUtil-1.4.0.tar.gz (5.5 kB)\r\n",
      "  Preparing metadata (setup.py) ... \u001b[?25l-\b \b\\\b \bdone\r\n",
      "\u001b[?25hBuilding wheels for collected packages: GPUtil\r\n",
      "  Building wheel for GPUtil (setup.py) ... \u001b[?25l-\b \b\\\b \b|\b \bdone\r\n",
      "\u001b[?25h  Created wheel for GPUtil: filename=GPUtil-1.4.0-py3-none-any.whl size=7393 sha256=26c1a28feb308c9443cf3dc5421327466c9d79d3a63c8edaf17148919e2818a5\r\n",
      "  Stored in directory: /root/.cache/pip/wheels/a9/8a/bd/81082387151853ab8b6b3ef33426e98f5cbfebc3c397a9d4d0\r\n",
      "Successfully built GPUtil\r\n",
      "Installing collected packages: GPUtil\r\n",
      "Successfully installed GPUtil-1.4.0\r\n",
      "Note: you may need to restart the kernel to use updated packages.\n"
     ]
    }
   ],
   "source": [
    "import pandas as pd\n",
    "import numpy as np\n",
    "import string\n",
    "from collections import Counter\n",
    "from collections import OrderedDict\n",
    "import matplotlib.pyplot as plt\n",
    "import seaborn as sns\n",
    "\n",
    "%pip install GPUtil\n",
    "import GPUtil\n",
    "\n",
    "#!pip install xgboost\n",
    "import xgboost as xgb\n",
    "from sklearn.decomposition import PCA\n",
    "from sklearn.model_selection import train_test_split\n",
    "from sklearn.metrics import accuracy_score\n",
    "from sklearn.cluster import KMeans\n",
    "from sklearn.metrics import classification_report\n",
    "from sklearn import feature_selection \n",
    "from sklearn import preprocessing\n",
    "from sklearn.linear_model import LogisticRegression\n",
    "\n",
    "#!pip install plotly\n",
    "import plotly.offline as py\n",
    "import warnings\n",
    "import itertools\n",
    "import numpy as np\n",
    "import matplotlib.pyplot as plt\n",
    "plt.style.use('fivethirtyeight')\n",
    "import statsmodels.api as sm\n",
    "import matplotlib\n",
    "\n",
    "matplotlib.rcParams['axes.labelsize'] = 14\n",
    "matplotlib.rcParams['xtick.labelsize'] = 12\n",
    "matplotlib.rcParams['ytick.labelsize'] = 12\n",
    "matplotlib.rcParams['text.color'] = 'k'\n",
    "\n",
    "warnings.filterwarnings(\"ignore\")"
   ]
  },
  {
   "cell_type": "code",
   "execution_count": 2,
   "id": "edfbff11",
   "metadata": {
    "execution": {
     "iopub.execute_input": "2024-07-16T17:26:31.221175Z",
     "iopub.status.busy": "2024-07-16T17:26:31.220191Z",
     "iopub.status.idle": "2024-07-16T17:26:31.249888Z",
     "shell.execute_reply": "2024-07-16T17:26:31.248975Z"
    },
    "papermill": {
     "duration": 0.059415,
     "end_time": "2024-07-16T17:26:31.251874",
     "exception": false,
     "start_time": "2024-07-16T17:26:31.192459",
     "status": "completed"
    },
    "tags": []
   },
   "outputs": [
    {
     "data": {
      "text/plain": [
       "[1]"
      ]
     },
     "execution_count": 2,
     "metadata": {},
     "output_type": "execute_result"
    }
   ],
   "source": [
    "GPUs = GPUtil.getGPUs()\n",
    "GPUavailability = GPUtil.getAvailability(GPUs, maxLoad = 0.5, maxMemory = 0.5, includeNan=False, excludeID=[], excludeUUID=[])\n",
    "GPUavailability"
   ]
  },
  {
   "cell_type": "code",
   "execution_count": 3,
   "id": "f4e049a9",
   "metadata": {
    "execution": {
     "iopub.execute_input": "2024-07-16T17:26:31.306652Z",
     "iopub.status.busy": "2024-07-16T17:26:31.306350Z",
     "iopub.status.idle": "2024-07-16T17:26:31.330937Z",
     "shell.execute_reply": "2024-07-16T17:26:31.330145Z"
    },
    "papermill": {
     "duration": 0.054246,
     "end_time": "2024-07-16T17:26:31.332918",
     "exception": false,
     "start_time": "2024-07-16T17:26:31.278672",
     "status": "completed"
    },
    "tags": []
   },
   "outputs": [],
   "source": [
    "gpu = bool(GPUtil.getAvailable())"
   ]
  },
  {
   "cell_type": "code",
   "execution_count": 4,
   "id": "8d8c715f",
   "metadata": {
    "execution": {
     "iopub.execute_input": "2024-07-16T17:26:31.387998Z",
     "iopub.status.busy": "2024-07-16T17:26:31.387609Z",
     "iopub.status.idle": "2024-07-16T17:26:31.393677Z",
     "shell.execute_reply": "2024-07-16T17:26:31.392745Z"
    },
    "papermill": {
     "duration": 0.03591,
     "end_time": "2024-07-16T17:26:31.395598",
     "exception": false,
     "start_time": "2024-07-16T17:26:31.359688",
     "status": "completed"
    },
    "tags": []
   },
   "outputs": [
    {
     "data": {
      "text/plain": [
       "True"
      ]
     },
     "execution_count": 4,
     "metadata": {},
     "output_type": "execute_result"
    }
   ],
   "source": [
    "gpu"
   ]
  },
  {
   "cell_type": "code",
   "execution_count": 5,
   "id": "34bb66c4",
   "metadata": {
    "execution": {
     "iopub.execute_input": "2024-07-16T17:26:31.451750Z",
     "iopub.status.busy": "2024-07-16T17:26:31.450895Z",
     "iopub.status.idle": "2024-07-16T17:26:42.140118Z",
     "shell.execute_reply": "2024-07-16T17:26:42.138690Z"
    },
    "papermill": {
     "duration": 10.72008,
     "end_time": "2024-07-16T17:26:42.142733",
     "exception": false,
     "start_time": "2024-07-16T17:26:31.422653",
     "status": "completed"
    },
    "tags": []
   },
   "outputs": [],
   "source": [
    "filepath = \"/kaggle/input/consumer_complaints/Consumer_Complaints.csv\"\n",
    "df = pd.read_csv(filepath)\n",
    "rows = df.shape[0]"
   ]
  },
  {
   "cell_type": "markdown",
   "id": "5a5e1624",
   "metadata": {
    "papermill": {
     "duration": 0.026725,
     "end_time": "2024-07-16T17:26:42.196336",
     "exception": false,
     "start_time": "2024-07-16T17:26:42.169611",
     "status": "completed"
    },
    "tags": []
   },
   "source": [
    "* Due to memory limits, we are going to take a sample of the database.\n",
    "* The highest percentage (rounded) that could be used is 35%.\n",
    "* The variable 'samples' tells us how many records our sample contains.\n",
    "* Upon importing the dataframe, we are shown a warning about these two columns. We will deal with them later.\n",
    "* The function `cool_col` will transform the name of each column so that it is easier to use.\n",
    "* We transform the name of all the columns.\n",
    "* The variable ubanks is the set of bank names sorted alphabetically.\n"
   ]
  },
  {
   "cell_type": "code",
   "execution_count": 6,
   "id": "477a0960",
   "metadata": {
    "execution": {
     "iopub.execute_input": "2024-07-16T17:26:42.250449Z",
     "iopub.status.busy": "2024-07-16T17:26:42.249783Z",
     "iopub.status.idle": "2024-07-16T17:26:42.616559Z",
     "shell.execute_reply": "2024-07-16T17:26:42.615526Z"
    },
    "papermill": {
     "duration": 0.396504,
     "end_time": "2024-07-16T17:26:42.619084",
     "exception": false,
     "start_time": "2024-07-16T17:26:42.222580",
     "status": "completed"
    },
    "tags": []
   },
   "outputs": [],
   "source": [
    "pct = 0.15\n",
    "magic_number = int(pct*rows)\n",
    "df = df.sample(n=magic_number, random_state=0)\n",
    "samples = df.shape[0]"
   ]
  },
  {
   "cell_type": "code",
   "execution_count": 7,
   "id": "3f37baca",
   "metadata": {
    "execution": {
     "iopub.execute_input": "2024-07-16T17:26:42.679016Z",
     "iopub.status.busy": "2024-07-16T17:26:42.678153Z",
     "iopub.status.idle": "2024-07-16T17:26:42.697167Z",
     "shell.execute_reply": "2024-07-16T17:26:42.696260Z"
    },
    "papermill": {
     "duration": 0.053182,
     "end_time": "2024-07-16T17:26:42.699376",
     "exception": false,
     "start_time": "2024-07-16T17:26:42.646194",
     "status": "completed"
    },
    "tags": []
   },
   "outputs": [
    {
     "data": {
      "text/plain": [
       "Index(['Consumer Complaint', 'Consumer consent provided?'], dtype='object')"
      ]
     },
     "execution_count": 7,
     "metadata": {},
     "output_type": "execute_result"
    }
   ],
   "source": [
    "df.columns[[5,11]]"
   ]
  },
  {
   "cell_type": "code",
   "execution_count": 8,
   "id": "0caea1ef",
   "metadata": {
    "execution": {
     "iopub.execute_input": "2024-07-16T17:26:42.804545Z",
     "iopub.status.busy": "2024-07-16T17:26:42.804199Z",
     "iopub.status.idle": "2024-07-16T17:26:42.810917Z",
     "shell.execute_reply": "2024-07-16T17:26:42.810026Z"
    },
    "papermill": {
     "duration": 0.037366,
     "end_time": "2024-07-16T17:26:42.812844",
     "exception": false,
     "start_time": "2024-07-16T17:26:42.775478",
     "status": "completed"
    },
    "tags": []
   },
   "outputs": [],
   "source": [
    "\n",
    "def cool_col(col):\n",
    "    col = col.replace(\"-\", \" \")\n",
    "    col = col.replace(\"?\", \"\")\n",
    "    phrase = col.split()\n",
    "    tag = None\n",
    "    if len(phrase)==1:\n",
    "        tag = phrase[0]\n",
    "    else:\n",
    "        tag = phrase[0]+\"_\"+phrase[1]    \n",
    "    #print(col, phrase, tag)\n",
    "    return tag.lower()"
   ]
  },
  {
   "cell_type": "code",
   "execution_count": 9,
   "id": "22d640f6",
   "metadata": {
    "execution": {
     "iopub.execute_input": "2024-07-16T17:26:42.868493Z",
     "iopub.status.busy": "2024-07-16T17:26:42.867893Z",
     "iopub.status.idle": "2024-07-16T17:26:42.872753Z",
     "shell.execute_reply": "2024-07-16T17:26:42.871843Z"
    },
    "papermill": {
     "duration": 0.034433,
     "end_time": "2024-07-16T17:26:42.874640",
     "exception": false,
     "start_time": "2024-07-16T17:26:42.840207",
     "status": "completed"
    },
    "tags": []
   },
   "outputs": [],
   "source": [
    "\n",
    "df.columns = [cool_col(col) for col in df.columns]"
   ]
  },
  {
   "cell_type": "code",
   "execution_count": 10,
   "id": "009fe329",
   "metadata": {
    "execution": {
     "iopub.execute_input": "2024-07-16T17:26:42.930094Z",
     "iopub.status.busy": "2024-07-16T17:26:42.929770Z",
     "iopub.status.idle": "2024-07-16T17:26:42.962057Z",
     "shell.execute_reply": "2024-07-16T17:26:42.961322Z"
    },
    "papermill": {
     "duration": 0.062323,
     "end_time": "2024-07-16T17:26:42.964019",
     "exception": false,
     "start_time": "2024-07-16T17:26:42.901696",
     "status": "completed"
    },
    "tags": []
   },
   "outputs": [],
   "source": [
    "\n",
    "ubanks = np.sort(pd.unique(df[\"company\"]))"
   ]
  },
  {
   "cell_type": "markdown",
   "id": "e8c4dc5a",
   "metadata": {
    "papermill": {
     "duration": 0.026505,
     "end_time": "2024-07-16T17:26:43.017144",
     "exception": false,
     "start_time": "2024-07-16T17:26:42.990639",
     "status": "completed"
    },
    "tags": []
   },
   "source": [
    "## Variable Processing\n",
    "\n",
    "- We will remove the complaint ID as it does not provide relevant information.\n",
    "- We will only work with variables that have less than 20% null values.\n",
    "\n",
    "\n",
    "\n",
    "\n"
   ]
  },
  {
   "cell_type": "code",
   "execution_count": 11,
   "id": "7002ff6f",
   "metadata": {
    "execution": {
     "iopub.execute_input": "2024-07-16T17:26:43.071762Z",
     "iopub.status.busy": "2024-07-16T17:26:43.071413Z",
     "iopub.status.idle": "2024-07-16T17:26:43.118785Z",
     "shell.execute_reply": "2024-07-16T17:26:43.117976Z"
    },
    "papermill": {
     "duration": 0.07736,
     "end_time": "2024-07-16T17:26:43.121017",
     "exception": false,
     "start_time": "2024-07-16T17:26:43.043657",
     "status": "completed"
    },
    "tags": []
   },
   "outputs": [],
   "source": [
    "\n",
    "df.drop(columns = ['complaint_id'], inplace=True)"
   ]
  },
  {
   "cell_type": "code",
   "execution_count": 12,
   "id": "6cc03f79",
   "metadata": {
    "execution": {
     "iopub.execute_input": "2024-07-16T17:26:43.176724Z",
     "iopub.status.busy": "2024-07-16T17:26:43.176226Z",
     "iopub.status.idle": "2024-07-16T17:26:43.406352Z",
     "shell.execute_reply": "2024-07-16T17:26:43.405501Z"
    },
    "papermill": {
     "duration": 0.259993,
     "end_time": "2024-07-16T17:26:43.408344",
     "exception": false,
     "start_time": "2024-07-16T17:26:43.148351",
     "status": "completed"
    },
    "tags": []
   },
   "outputs": [],
   "source": [
    "to_include = df.columns[(df.isnull().sum()<(0.20)*samples).values]"
   ]
  },
  {
   "cell_type": "code",
   "execution_count": 13,
   "id": "c2de37a5",
   "metadata": {
    "execution": {
     "iopub.execute_input": "2024-07-16T17:26:43.467354Z",
     "iopub.status.busy": "2024-07-16T17:26:43.466632Z",
     "iopub.status.idle": "2024-07-16T17:26:43.472857Z",
     "shell.execute_reply": "2024-07-16T17:26:43.472039Z"
    },
    "papermill": {
     "duration": 0.037446,
     "end_time": "2024-07-16T17:26:43.474890",
     "exception": false,
     "start_time": "2024-07-16T17:26:43.437444",
     "status": "completed"
    },
    "tags": []
   },
   "outputs": [
    {
     "data": {
      "text/plain": [
       "Index(['date_received', 'product', 'issue', 'company', 'state', 'zip_code',\n",
       "       'submitted_via', 'date_sent', 'company_response', 'timely_response'],\n",
       "      dtype='object')"
      ]
     },
     "execution_count": 13,
     "metadata": {},
     "output_type": "execute_result"
    }
   ],
   "source": [
    "to_include"
   ]
  },
  {
   "cell_type": "code",
   "execution_count": 14,
   "id": "b24f5750",
   "metadata": {
    "execution": {
     "iopub.execute_input": "2024-07-16T17:26:43.531475Z",
     "iopub.status.busy": "2024-07-16T17:26:43.530543Z",
     "iopub.status.idle": "2024-07-16T17:26:43.575048Z",
     "shell.execute_reply": "2024-07-16T17:26:43.574021Z"
    },
    "papermill": {
     "duration": 0.074995,
     "end_time": "2024-07-16T17:26:43.577389",
     "exception": false,
     "start_time": "2024-07-16T17:26:43.502394",
     "status": "completed"
    },
    "tags": []
   },
   "outputs": [],
   "source": [
    "df = df[to_include]"
   ]
  },
  {
   "cell_type": "markdown",
   "id": "823fbad4",
   "metadata": {
    "papermill": {
     "duration": 0.026468,
     "end_time": "2024-07-16T17:26:43.631236",
     "exception": false,
     "start_time": "2024-07-16T17:26:43.604768",
     "status": "completed"
    },
    "tags": []
   },
   "source": [
    "### Company\n",
    "\n",
    "- Now we will transform the \"company\" variable, trying to identify banks that belong to the same group and that vary in name under certain circumstances. \n",
    "- For example, because they are located in two different states.\n",
    "- We identify special characters that will be replaced.\n",
    "- We look for the most common suffixes.\n",
    "\n",
    "\n",
    "\n",
    "\n",
    "\n",
    "\n"
   ]
  },
  {
   "cell_type": "code",
   "execution_count": 15,
   "id": "419bb494",
   "metadata": {
    "execution": {
     "iopub.execute_input": "2024-07-16T17:26:43.686318Z",
     "iopub.status.busy": "2024-07-16T17:26:43.685374Z",
     "iopub.status.idle": "2024-07-16T17:26:43.690140Z",
     "shell.execute_reply": "2024-07-16T17:26:43.689245Z"
    },
    "papermill": {
     "duration": 0.034649,
     "end_time": "2024-07-16T17:26:43.692246",
     "exception": false,
     "start_time": "2024-07-16T17:26:43.657597",
     "status": "completed"
    },
    "tags": []
   },
   "outputs": [],
   "source": [
    "non_special = {ord(c):\"\" for c in string.punctuation}"
   ]
  },
  {
   "cell_type": "code",
   "execution_count": 16,
   "id": "047ed533",
   "metadata": {
    "execution": {
     "iopub.execute_input": "2024-07-16T17:26:43.746579Z",
     "iopub.status.busy": "2024-07-16T17:26:43.746288Z",
     "iopub.status.idle": "2024-07-16T17:26:43.751970Z",
     "shell.execute_reply": "2024-07-16T17:26:43.751169Z"
    },
    "papermill": {
     "duration": 0.035045,
     "end_time": "2024-07-16T17:26:43.753859",
     "exception": false,
     "start_time": "2024-07-16T17:26:43.718814",
     "status": "completed"
    },
    "tags": []
   },
   "outputs": [],
   "source": [
    "\n",
    "common_suffixes = set()\n",
    "for bank in ubanks[0]:\n",
    "    if \",\" in bank:\n",
    "        last_comma = bank.rindex(\",\")       \n",
    "        suffix = bank[last_comma+1:].strip()\n",
    "        suffix_words = suffix.split()\n",
    "        if \"&\" not in suffix_words and \"and\" not in suffix_words:\n",
    "           common_suffixes.add(suffix)           \n",
    "#common_suffixes.remove(\"\")\n",
    "common_suffixes = sorted(common_suffixes, key=len)[::-1]"
   ]
  },
  {
   "cell_type": "markdown",
   "id": "1585c7a6",
   "metadata": {
    "papermill": {
     "duration": 0.026884,
     "end_time": "2024-07-16T17:26:43.807393",
     "exception": false,
     "start_time": "2024-07-16T17:26:43.780509",
     "status": "completed"
    },
    "tags": []
   },
   "source": [
    "- This function will help us clean up a bank’s title to identify names that are similar.\n",
    "- The `bank_tags` dictionary will provide us a way to identify each original bank title with its clean title.\n",
    "- We replace the bank names with the previous dictionary.\n",
    "\n",
    "\n",
    "\n"
   ]
  },
  {
   "cell_type": "code",
   "execution_count": 17,
   "id": "77aa4d73",
   "metadata": {
    "execution": {
     "iopub.execute_input": "2024-07-16T17:26:43.863467Z",
     "iopub.status.busy": "2024-07-16T17:26:43.862698Z",
     "iopub.status.idle": "2024-07-16T17:26:43.868372Z",
     "shell.execute_reply": "2024-07-16T17:26:43.867528Z"
    },
    "papermill": {
     "duration": 0.034925,
     "end_time": "2024-07-16T17:26:43.870224",
     "exception": false,
     "start_time": "2024-07-16T17:26:43.835299",
     "status": "completed"
    },
    "tags": []
   },
   "outputs": [],
   "source": [
    "\n",
    "def clean_title(title):\n",
    "    title = title.translate(non_special).lower()\n",
    "    title = title.replace(\"the\", \"\")\n",
    "    title = title.replace(\"of\", \"\")\n",
    "    title = title.replace(\"&\", \"\")\n",
    "    title = title.replace(\"and\", \"\")\n",
    "    title = \"_\".join([word for word in title.split() if len(word)>1])\n",
    "    return title"
   ]
  },
  {
   "cell_type": "code",
   "execution_count": 18,
   "id": "47a474cb",
   "metadata": {
    "execution": {
     "iopub.execute_input": "2024-07-16T17:26:43.925257Z",
     "iopub.status.busy": "2024-07-16T17:26:43.924645Z",
     "iopub.status.idle": "2024-07-16T17:26:43.956350Z",
     "shell.execute_reply": "2024-07-16T17:26:43.955579Z"
    },
    "papermill": {
     "duration": 0.061479,
     "end_time": "2024-07-16T17:26:43.958150",
     "exception": false,
     "start_time": "2024-07-16T17:26:43.896671",
     "status": "completed"
    },
    "tags": []
   },
   "outputs": [],
   "source": [
    "\n",
    "bank_tags = {}\n",
    "for bank in ubanks:\n",
    "    new = bank\n",
    "    for suffix in common_suffixes:\n",
    "        new = new.replace(suffix, \"\")\n",
    "    if clean_title(new):\n",
    "        bank_tags[bank] = clean_title(new)\n",
    "    else:\n",
    "        tag = bank.split()[0].translate(non_special).lower()      \n",
    "        #print(\"{:<30} {:<10} {} {:>10}\".format(bank,new,clean_title(new),tag))                \n",
    "        bank_tags[bank] = tag"
   ]
  },
  {
   "cell_type": "code",
   "execution_count": 19,
   "id": "25cf6eca",
   "metadata": {
    "execution": {
     "iopub.execute_input": "2024-07-16T17:26:44.013095Z",
     "iopub.status.busy": "2024-07-16T17:26:44.012752Z",
     "iopub.status.idle": "2024-07-16T17:27:07.302669Z",
     "shell.execute_reply": "2024-07-16T17:27:07.301753Z"
    },
    "papermill": {
     "duration": 23.320487,
     "end_time": "2024-07-16T17:27:07.305193",
     "exception": false,
     "start_time": "2024-07-16T17:26:43.984706",
     "status": "completed"
    },
    "tags": []
   },
   "outputs": [],
   "source": [
    "\n",
    "df.company=df[\"company\"].replace(bank_tags)"
   ]
  },
  {
   "cell_type": "markdown",
   "id": "3ac232a9",
   "metadata": {
    "papermill": {
     "duration": 0.026798,
     "end_time": "2024-07-16T17:27:07.359824",
     "exception": false,
     "start_time": "2024-07-16T17:27:07.333026",
     "status": "completed"
    },
    "tags": []
   },
   "source": [
    "### Date received/Date sent to company\n",
    "\n",
    "- We convert the complaint receipt date from string type to timestamp type. \n",
    "- We convert the complaint submission date to the bank from string type to timestamp type.\n",
    "- We look for the most recent date in the data frame. \n",
    "- This new data column contains the number of days elapsed from when the complaint was received until the most recent date.\n",
    "- This new data column contains the number of days elapsed from when the complaint was sent to the bank until the most recent date."
   ]
  },
  {
   "cell_type": "code",
   "execution_count": 20,
   "id": "0a1ba2ec",
   "metadata": {
    "execution": {
     "iopub.execute_input": "2024-07-16T17:27:07.415779Z",
     "iopub.status.busy": "2024-07-16T17:27:07.414888Z",
     "iopub.status.idle": "2024-07-16T17:27:08.099015Z",
     "shell.execute_reply": "2024-07-16T17:27:08.097966Z"
    },
    "papermill": {
     "duration": 0.714702,
     "end_time": "2024-07-16T17:27:08.101436",
     "exception": false,
     "start_time": "2024-07-16T17:27:07.386734",
     "status": "completed"
    },
    "tags": []
   },
   "outputs": [],
   "source": [
    "\n",
    "df[\"date_received\"] = df[\"date_received\"].str.replace('/', '-')\n",
    "df.date_received = pd.to_datetime(df[\"date_received\"])"
   ]
  },
  {
   "cell_type": "code",
   "execution_count": 21,
   "id": "be79a8db",
   "metadata": {
    "execution": {
     "iopub.execute_input": "2024-07-16T17:27:08.158326Z",
     "iopub.status.busy": "2024-07-16T17:27:08.157738Z",
     "iopub.status.idle": "2024-07-16T17:27:08.825784Z",
     "shell.execute_reply": "2024-07-16T17:27:08.825016Z"
    },
    "papermill": {
     "duration": 0.699217,
     "end_time": "2024-07-16T17:27:08.827988",
     "exception": false,
     "start_time": "2024-07-16T17:27:08.128771",
     "status": "completed"
    },
    "tags": []
   },
   "outputs": [],
   "source": [
    "\n",
    "df[\"date_sent\"] = df[\"date_sent\"].str.replace('/', '-')\n",
    "df.date_sent = pd.to_datetime(df[\"date_sent\"], format=\"%m-%d-%Y\")"
   ]
  },
  {
   "cell_type": "code",
   "execution_count": 22,
   "id": "14e96865",
   "metadata": {
    "execution": {
     "iopub.execute_input": "2024-07-16T17:27:08.884853Z",
     "iopub.status.busy": "2024-07-16T17:27:08.884006Z",
     "iopub.status.idle": "2024-07-16T17:27:08.889835Z",
     "shell.execute_reply": "2024-07-16T17:27:08.889151Z"
    },
    "papermill": {
     "duration": 0.035957,
     "end_time": "2024-07-16T17:27:08.891757",
     "exception": false,
     "start_time": "2024-07-16T17:27:08.855800",
     "status": "completed"
    },
    "tags": []
   },
   "outputs": [],
   "source": [
    "\n",
    "today = max(df.date_received.max(), df.date_sent.max())"
   ]
  },
  {
   "cell_type": "code",
   "execution_count": 23,
   "id": "44f98f7b",
   "metadata": {
    "execution": {
     "iopub.execute_input": "2024-07-16T17:27:08.947637Z",
     "iopub.status.busy": "2024-07-16T17:27:08.947380Z",
     "iopub.status.idle": "2024-07-16T17:27:08.955458Z",
     "shell.execute_reply": "2024-07-16T17:27:08.954601Z"
    },
    "papermill": {
     "duration": 0.037617,
     "end_time": "2024-07-16T17:27:08.957368",
     "exception": false,
     "start_time": "2024-07-16T17:27:08.919751",
     "status": "completed"
    },
    "tags": []
   },
   "outputs": [],
   "source": [
    "\n",
    "df[\"received_days\"] = (today-df.date_received)/np.timedelta64(1, 'D')"
   ]
  },
  {
   "cell_type": "code",
   "execution_count": 24,
   "id": "72df94e8",
   "metadata": {
    "execution": {
     "iopub.execute_input": "2024-07-16T17:27:09.011685Z",
     "iopub.status.busy": "2024-07-16T17:27:09.011433Z",
     "iopub.status.idle": "2024-07-16T17:27:09.018836Z",
     "shell.execute_reply": "2024-07-16T17:27:09.018114Z"
    },
    "papermill": {
     "duration": 0.03656,
     "end_time": "2024-07-16T17:27:09.020661",
     "exception": false,
     "start_time": "2024-07-16T17:27:08.984101",
     "status": "completed"
    },
    "tags": []
   },
   "outputs": [],
   "source": [
    "\n",
    "df[\"sent_days\"] = (today-df.date_sent)/np.timedelta64(1, 'D')"
   ]
  },
  {
   "cell_type": "markdown",
   "id": "ff5e0f58",
   "metadata": {
    "papermill": {
     "duration": 0.026537,
     "end_time": "2024-07-16T17:27:09.074149",
     "exception": false,
     "start_time": "2024-07-16T17:27:09.047612",
     "status": "completed"
    },
    "tags": []
   },
   "source": [
    "## Transformation to Categorical Variables\n",
    "### Object Variables\n",
    "- We identify the variables of the object type\n",
    "- We create a matrix where only the object type variables are included\n",
    "- We create a matrix where only the object type variables are included\n",
    "- We convert all variables to categorical."
   ]
  },
  {
   "cell_type": "code",
   "execution_count": 25,
   "id": "e122d8e4",
   "metadata": {
    "execution": {
     "iopub.execute_input": "2024-07-16T17:27:09.128505Z",
     "iopub.status.busy": "2024-07-16T17:27:09.128144Z",
     "iopub.status.idle": "2024-07-16T17:27:09.171322Z",
     "shell.execute_reply": "2024-07-16T17:27:09.170320Z"
    },
    "papermill": {
     "duration": 0.072957,
     "end_time": "2024-07-16T17:27:09.173427",
     "exception": false,
     "start_time": "2024-07-16T17:27:09.100470",
     "status": "completed"
    },
    "tags": []
   },
   "outputs": [
    {
     "data": {
      "text/plain": [
       "Index(['product', 'issue', 'company', 'state', 'zip_code', 'submitted_via',\n",
       "       'company_response', 'timely_response'],\n",
       "      dtype='object')"
      ]
     },
     "execution_count": 25,
     "metadata": {},
     "output_type": "execute_result"
    }
   ],
   "source": [
    "\n",
    "df.select_dtypes(include=['object']).columns"
   ]
  },
  {
   "cell_type": "code",
   "execution_count": 26,
   "id": "9793f64c",
   "metadata": {
    "execution": {
     "iopub.execute_input": "2024-07-16T17:27:09.230429Z",
     "iopub.status.busy": "2024-07-16T17:27:09.229800Z",
     "iopub.status.idle": "2024-07-16T17:27:09.263462Z",
     "shell.execute_reply": "2024-07-16T17:27:09.262322Z"
    },
    "papermill": {
     "duration": 0.064374,
     "end_time": "2024-07-16T17:27:09.265821",
     "exception": false,
     "start_time": "2024-07-16T17:27:09.201447",
     "status": "completed"
    },
    "tags": []
   },
   "outputs": [],
   "source": [
    "\n",
    "X = df.select_dtypes(include=['object'])"
   ]
  },
  {
   "cell_type": "code",
   "execution_count": 27,
   "id": "5ccc7000",
   "metadata": {
    "execution": {
     "iopub.execute_input": "2024-07-16T17:27:09.321759Z",
     "iopub.status.busy": "2024-07-16T17:27:09.321456Z",
     "iopub.status.idle": "2024-07-16T17:27:09.341428Z",
     "shell.execute_reply": "2024-07-16T17:27:09.340432Z"
    },
    "papermill": {
     "duration": 0.050242,
     "end_time": "2024-07-16T17:27:09.343845",
     "exception": false,
     "start_time": "2024-07-16T17:27:09.293603",
     "status": "completed"
    },
    "tags": []
   },
   "outputs": [],
   "source": [
    "X.drop(columns = [\"product\"], inplace=True)"
   ]
  },
  {
   "cell_type": "code",
   "execution_count": 28,
   "id": "7ae80a31",
   "metadata": {
    "execution": {
     "iopub.execute_input": "2024-07-16T17:27:09.401219Z",
     "iopub.status.busy": "2024-07-16T17:27:09.400357Z",
     "iopub.status.idle": "2024-07-16T17:27:09.607830Z",
     "shell.execute_reply": "2024-07-16T17:27:09.606812Z"
    },
    "papermill": {
     "duration": 0.23886,
     "end_time": "2024-07-16T17:27:09.610188",
     "exception": false,
     "start_time": "2024-07-16T17:27:09.371328",
     "status": "completed"
    },
    "tags": []
   },
   "outputs": [],
   "source": [
    "\n",
    "X = X.astype('category')"
   ]
  },
  {
   "cell_type": "markdown",
   "id": "d6015be8",
   "metadata": {
    "papermill": {
     "duration": 0.026374,
     "end_time": "2024-07-16T17:27:09.663968",
     "exception": false,
     "start_time": "2024-07-16T17:27:09.637594",
     "status": "completed"
    },
    "tags": []
   },
   "source": [
    "### Numeric Variables\n",
    "- We identify the numeric variables\n",
    "- We add these variables to our matrix\n",
    "- We check how many null values our columns have."
   ]
  },
  {
   "cell_type": "code",
   "execution_count": 29,
   "id": "13064dfd",
   "metadata": {
    "execution": {
     "iopub.execute_input": "2024-07-16T17:27:09.718731Z",
     "iopub.status.busy": "2024-07-16T17:27:09.718047Z",
     "iopub.status.idle": "2024-07-16T17:27:09.724446Z",
     "shell.execute_reply": "2024-07-16T17:27:09.723374Z"
    },
    "papermill": {
     "duration": 0.036023,
     "end_time": "2024-07-16T17:27:09.726434",
     "exception": false,
     "start_time": "2024-07-16T17:27:09.690411",
     "status": "completed"
    },
    "tags": []
   },
   "outputs": [
    {
     "data": {
      "text/plain": [
       "Index(['received_days', 'sent_days'], dtype='object')"
      ]
     },
     "execution_count": 29,
     "metadata": {},
     "output_type": "execute_result"
    }
   ],
   "source": [
    "df._get_numeric_data().columns"
   ]
  },
  {
   "cell_type": "code",
   "execution_count": 30,
   "id": "a85f35ae",
   "metadata": {
    "execution": {
     "iopub.execute_input": "2024-07-16T17:27:09.782551Z",
     "iopub.status.busy": "2024-07-16T17:27:09.782261Z",
     "iopub.status.idle": "2024-07-16T17:27:09.789656Z",
     "shell.execute_reply": "2024-07-16T17:27:09.788731Z"
    },
    "papermill": {
     "duration": 0.037676,
     "end_time": "2024-07-16T17:27:09.791609",
     "exception": false,
     "start_time": "2024-07-16T17:27:09.753933",
     "status": "completed"
    },
    "tags": []
   },
   "outputs": [],
   "source": [
    "\n",
    "X = pd.concat([X,df._get_numeric_data()], axis=1)"
   ]
  },
  {
   "cell_type": "code",
   "execution_count": 31,
   "id": "852d294d",
   "metadata": {
    "execution": {
     "iopub.execute_input": "2024-07-16T17:27:09.847110Z",
     "iopub.status.busy": "2024-07-16T17:27:09.846803Z",
     "iopub.status.idle": "2024-07-16T17:27:09.856864Z",
     "shell.execute_reply": "2024-07-16T17:27:09.856026Z"
    },
    "papermill": {
     "duration": 0.039716,
     "end_time": "2024-07-16T17:27:09.858617",
     "exception": false,
     "start_time": "2024-07-16T17:27:09.818901",
     "status": "completed"
    },
    "tags": []
   },
   "outputs": [
    {
     "data": {
      "text/plain": [
       "issue                  0\n",
       "company                0\n",
       "state               1816\n",
       "zip_code            2474\n",
       "submitted_via          0\n",
       "company_response       1\n",
       "timely_response        0\n",
       "received_days          0\n",
       "sent_days              0\n",
       "dtype: int64"
      ]
     },
     "execution_count": 31,
     "metadata": {},
     "output_type": "execute_result"
    }
   ],
   "source": [
    "\n",
    "X.isnull().sum()"
   ]
  },
  {
   "cell_type": "markdown",
   "id": "bc8c432f",
   "metadata": {
    "papermill": {
     "duration": 0.028054,
     "end_time": "2024-07-16T17:27:09.913936",
     "exception": false,
     "start_time": "2024-07-16T17:27:09.885882",
     "status": "completed"
    },
    "tags": []
   },
   "source": [
    "We separate each numeric variable into quartiles. The category of each record will correspond to its quartile. This will allow us to make all records categorical variables which we will later transform into binary vectors"
   ]
  },
  {
   "cell_type": "code",
   "execution_count": 32,
   "id": "5c340158",
   "metadata": {
    "execution": {
     "iopub.execute_input": "2024-07-16T17:27:09.968794Z",
     "iopub.status.busy": "2024-07-16T17:27:09.968503Z",
     "iopub.status.idle": "2024-07-16T17:27:10.000172Z",
     "shell.execute_reply": "2024-07-16T17:27:09.999404Z"
    },
    "papermill": {
     "duration": 0.061548,
     "end_time": "2024-07-16T17:27:10.002246",
     "exception": false,
     "start_time": "2024-07-16T17:27:09.940698",
     "status": "completed"
    },
    "tags": []
   },
   "outputs": [],
   "source": [
    "\n",
    "for col in df._get_numeric_data().columns:\n",
    "    X[col] = pd.qcut(X[col], 4).astype(\"category\")"
   ]
  },
  {
   "cell_type": "markdown",
   "id": "78191290",
   "metadata": {
    "papermill": {
     "duration": 0.026911,
     "end_time": "2024-07-16T17:27:10.057497",
     "exception": false,
     "start_time": "2024-07-16T17:27:10.030586",
     "status": "completed"
    },
    "tags": []
   },
   "source": [
    "## Encoding\n",
    "We will encode the categories of each column as natural numbers."
   ]
  },
  {
   "cell_type": "code",
   "execution_count": 33,
   "id": "1d92a45b",
   "metadata": {
    "execution": {
     "iopub.execute_input": "2024-07-16T17:27:10.114053Z",
     "iopub.status.busy": "2024-07-16T17:27:10.113675Z",
     "iopub.status.idle": "2024-07-16T17:27:11.646384Z",
     "shell.execute_reply": "2024-07-16T17:27:11.645555Z"
    },
    "papermill": {
     "duration": 1.563904,
     "end_time": "2024-07-16T17:27:11.648702",
     "exception": false,
     "start_time": "2024-07-16T17:27:10.084798",
     "status": "completed"
    },
    "tags": []
   },
   "outputs": [],
   "source": [
    "encoder = {}\n",
    "for col in X.columns:\n",
    "    encoder[col] = preprocessing.LabelEncoder()\n",
    "    temp = X[col].values\n",
    "    X[col] = encoder[col].fit_transform(temp)"
   ]
  },
  {
   "cell_type": "markdown",
   "id": "5c0a6c5f",
   "metadata": {
    "papermill": {
     "duration": 0.02721,
     "end_time": "2024-07-16T17:27:11.703771",
     "exception": false,
     "start_time": "2024-07-16T17:27:11.676561",
     "status": "completed"
    },
    "tags": []
   },
   "source": [
    "### OneHot Encoding\n",
    "Due to memory constraints, we will only work with three predictor variables. These variables were chosen manually, to illustrate how to visualize and analyze data. However, they could be chosen objectively using a method like RFE (Recursive Feature Elimination).\n",
    "- We will transform the categorical variables into binary vectors.\n",
    "- We will do something similar with the data frame.\n",
    "- Finally, we will create an auxiliary column that will help us with the counts."
   ]
  },
  {
   "cell_type": "code",
   "execution_count": 34,
   "id": "dc7596ff",
   "metadata": {
    "execution": {
     "iopub.execute_input": "2024-07-16T17:27:11.760777Z",
     "iopub.status.busy": "2024-07-16T17:27:11.760419Z",
     "iopub.status.idle": "2024-07-16T17:27:11.764894Z",
     "shell.execute_reply": "2024-07-16T17:27:11.764112Z"
    },
    "papermill": {
     "duration": 0.035223,
     "end_time": "2024-07-16T17:27:11.766877",
     "exception": false,
     "start_time": "2024-07-16T17:27:11.731654",
     "status": "completed"
    },
    "tags": []
   },
   "outputs": [],
   "source": [
    "to_select = ['issue', 'company', 'received_days']"
   ]
  },
  {
   "cell_type": "code",
   "execution_count": 35,
   "id": "438e7fec",
   "metadata": {
    "execution": {
     "iopub.execute_input": "2024-07-16T17:27:11.824211Z",
     "iopub.status.busy": "2024-07-16T17:27:11.823216Z",
     "iopub.status.idle": "2024-07-16T17:27:11.829856Z",
     "shell.execute_reply": "2024-07-16T17:27:11.828974Z"
    },
    "papermill": {
     "duration": 0.037483,
     "end_time": "2024-07-16T17:27:11.831869",
     "exception": false,
     "start_time": "2024-07-16T17:27:11.794386",
     "status": "completed"
    },
    "tags": []
   },
   "outputs": [],
   "source": [
    "X = X[to_select]"
   ]
  },
  {
   "cell_type": "code",
   "execution_count": 36,
   "id": "f880a5b6",
   "metadata": {
    "execution": {
     "iopub.execute_input": "2024-07-16T17:27:11.887342Z",
     "iopub.status.busy": "2024-07-16T17:27:11.887050Z",
     "iopub.status.idle": "2024-07-16T17:27:13.411551Z",
     "shell.execute_reply": "2024-07-16T17:27:13.410539Z"
    },
    "papermill": {
     "duration": 1.554987,
     "end_time": "2024-07-16T17:27:13.414125",
     "exception": false,
     "start_time": "2024-07-16T17:27:11.859138",
     "status": "completed"
    },
    "tags": []
   },
   "outputs": [],
   "source": [
    "ohc = preprocessing.OneHotEncoder(sparse_output = False)\n",
    "X = ohc.fit_transform(X.values)"
   ]
  },
  {
   "cell_type": "code",
   "execution_count": 37,
   "id": "3c961003",
   "metadata": {
    "execution": {
     "iopub.execute_input": "2024-07-16T17:27:13.469993Z",
     "iopub.status.busy": "2024-07-16T17:27:13.469661Z",
     "iopub.status.idle": "2024-07-16T17:27:13.497812Z",
     "shell.execute_reply": "2024-07-16T17:27:13.496873Z"
    },
    "papermill": {
     "duration": 0.058188,
     "end_time": "2024-07-16T17:27:13.499976",
     "exception": false,
     "start_time": "2024-07-16T17:27:13.441788",
     "status": "completed"
    },
    "tags": []
   },
   "outputs": [],
   "source": [
    "df = df[to_select+[\"product\", \"date_received\", \"state\"]]"
   ]
  },
  {
   "cell_type": "code",
   "execution_count": 38,
   "id": "737bfcac",
   "metadata": {
    "execution": {
     "iopub.execute_input": "2024-07-16T17:27:13.555310Z",
     "iopub.status.busy": "2024-07-16T17:27:13.554983Z",
     "iopub.status.idle": "2024-07-16T17:27:13.560083Z",
     "shell.execute_reply": "2024-07-16T17:27:13.559214Z"
    },
    "papermill": {
     "duration": 0.034963,
     "end_time": "2024-07-16T17:27:13.562087",
     "exception": false,
     "start_time": "2024-07-16T17:27:13.527124",
     "status": "completed"
    },
    "tags": []
   },
   "outputs": [],
   "source": [
    "df[\"count\"] = 1"
   ]
  },
  {
   "cell_type": "markdown",
   "id": "715f5c97",
   "metadata": {
    "papermill": {
     "duration": 0.027218,
     "end_time": "2024-07-16T17:27:13.616564",
     "exception": false,
     "start_time": "2024-07-16T17:27:13.589346",
     "status": "completed"
    },
    "tags": []
   },
   "source": [
    "## Response Processing\n",
    "- We save the target column in target\n",
    "- We verify that there are no null values in the response variable.\n",
    "- We encode the response variable and save the transformation in the variable y\n",
    "- Due to memory constraints, we will eliminate the target series."
   ]
  },
  {
   "cell_type": "code",
   "execution_count": 39,
   "id": "47435ecd",
   "metadata": {
    "execution": {
     "iopub.execute_input": "2024-07-16T17:27:13.671386Z",
     "iopub.status.busy": "2024-07-16T17:27:13.671110Z",
     "iopub.status.idle": "2024-07-16T17:27:13.675342Z",
     "shell.execute_reply": "2024-07-16T17:27:13.674569Z"
    },
    "papermill": {
     "duration": 0.03393,
     "end_time": "2024-07-16T17:27:13.677241",
     "exception": false,
     "start_time": "2024-07-16T17:27:13.643311",
     "status": "completed"
    },
    "tags": []
   },
   "outputs": [],
   "source": [
    "target = df[\"product\"]"
   ]
  },
  {
   "cell_type": "code",
   "execution_count": 40,
   "id": "2f5dda92",
   "metadata": {
    "execution": {
     "iopub.execute_input": "2024-07-16T17:27:13.731728Z",
     "iopub.status.busy": "2024-07-16T17:27:13.731460Z",
     "iopub.status.idle": "2024-07-16T17:27:13.751315Z",
     "shell.execute_reply": "2024-07-16T17:27:13.750468Z"
    },
    "papermill": {
     "duration": 0.049185,
     "end_time": "2024-07-16T17:27:13.753234",
     "exception": false,
     "start_time": "2024-07-16T17:27:13.704049",
     "status": "completed"
    },
    "tags": []
   },
   "outputs": [
    {
     "data": {
      "text/plain": [
       "0"
      ]
     },
     "execution_count": 40,
     "metadata": {},
     "output_type": "execute_result"
    }
   ],
   "source": [
    "target.isnull().sum()"
   ]
  },
  {
   "cell_type": "code",
   "execution_count": 41,
   "id": "126f80c7",
   "metadata": {
    "execution": {
     "iopub.execute_input": "2024-07-16T17:27:13.810748Z",
     "iopub.status.busy": "2024-07-16T17:27:13.809890Z",
     "iopub.status.idle": "2024-07-16T17:27:13.853923Z",
     "shell.execute_reply": "2024-07-16T17:27:13.852997Z"
    },
    "papermill": {
     "duration": 0.075623,
     "end_time": "2024-07-16T17:27:13.855948",
     "exception": false,
     "start_time": "2024-07-16T17:27:13.780325",
     "status": "completed"
    },
    "tags": []
   },
   "outputs": [],
   "source": [
    "encoder[\"product\"] = preprocessing.LabelEncoder()\n",
    "y = encoder[\"product\"].fit_transform(target)"
   ]
  },
  {
   "cell_type": "code",
   "execution_count": 42,
   "id": "53561d33",
   "metadata": {
    "execution": {
     "iopub.execute_input": "2024-07-16T17:27:13.912797Z",
     "iopub.status.busy": "2024-07-16T17:27:13.912405Z",
     "iopub.status.idle": "2024-07-16T17:27:13.916653Z",
     "shell.execute_reply": "2024-07-16T17:27:13.915897Z"
    },
    "papermill": {
     "duration": 0.035356,
     "end_time": "2024-07-16T17:27:13.919397",
     "exception": false,
     "start_time": "2024-07-16T17:27:13.884041",
     "status": "completed"
    },
    "tags": []
   },
   "outputs": [],
   "source": [
    "del target"
   ]
  },
  {
   "cell_type": "markdown",
   "id": "b236cbfa",
   "metadata": {
    "papermill": {
     "duration": 0.027735,
     "end_time": "2024-07-16T17:27:13.975213",
     "exception": false,
     "start_time": "2024-07-16T17:27:13.947478",
     "status": "completed"
    },
    "tags": []
   },
   "source": [
    "## Training and Test Sets\n",
    "- We separate our predictor matrix and the response vector into test and training sets.\n",
    "- Due to memory constraints, we will eliminate both the X matrix and the y matrix."
   ]
  },
  {
   "cell_type": "code",
   "execution_count": 43,
   "id": "e2a90141",
   "metadata": {
    "execution": {
     "iopub.execute_input": "2024-07-16T17:27:14.031567Z",
     "iopub.status.busy": "2024-07-16T17:27:14.030897Z",
     "iopub.status.idle": "2024-07-16T17:27:15.933794Z",
     "shell.execute_reply": "2024-07-16T17:27:15.932672Z"
    },
    "papermill": {
     "duration": 1.933536,
     "end_time": "2024-07-16T17:27:15.936087",
     "exception": false,
     "start_time": "2024-07-16T17:27:14.002551",
     "status": "completed"
    },
    "tags": []
   },
   "outputs": [],
   "source": [
    "X_train, X_test, y_train, y_test = train_test_split(X, y, test_size=0.20, random_state=42)"
   ]
  },
  {
   "cell_type": "code",
   "execution_count": 44,
   "id": "309498c4",
   "metadata": {
    "execution": {
     "iopub.execute_input": "2024-07-16T17:27:15.991556Z",
     "iopub.status.busy": "2024-07-16T17:27:15.991250Z",
     "iopub.status.idle": "2024-07-16T17:27:16.074257Z",
     "shell.execute_reply": "2024-07-16T17:27:16.073345Z"
    },
    "papermill": {
     "duration": 0.112754,
     "end_time": "2024-07-16T17:27:16.076266",
     "exception": false,
     "start_time": "2024-07-16T17:27:15.963512",
     "status": "completed"
    },
    "tags": []
   },
   "outputs": [],
   "source": [
    "del X"
   ]
  },
  {
   "cell_type": "code",
   "execution_count": 45,
   "id": "13e94c0e",
   "metadata": {
    "execution": {
     "iopub.execute_input": "2024-07-16T17:27:16.133487Z",
     "iopub.status.busy": "2024-07-16T17:27:16.133141Z",
     "iopub.status.idle": "2024-07-16T17:27:16.137220Z",
     "shell.execute_reply": "2024-07-16T17:27:16.136384Z"
    },
    "papermill": {
     "duration": 0.034911,
     "end_time": "2024-07-16T17:27:16.139132",
     "exception": false,
     "start_time": "2024-07-16T17:27:16.104221",
     "status": "completed"
    },
    "tags": []
   },
   "outputs": [],
   "source": [
    "del y"
   ]
  },
  {
   "cell_type": "markdown",
   "id": "7a98d5c0",
   "metadata": {
    "papermill": {
     "duration": 0.027718,
     "end_time": "2024-07-16T17:27:16.194371",
     "exception": false,
     "start_time": "2024-07-16T17:27:16.166653",
     "status": "completed"
    },
    "tags": []
   },
   "source": [
    "# Modeling "
   ]
  },
  {
   "cell_type": "markdown",
   "id": "ff5293c5",
   "metadata": {
    "papermill": {
     "duration": 0.02689,
     "end_time": "2024-07-16T17:27:16.248695",
     "exception": false,
     "start_time": "2024-07-16T17:27:16.221805",
     "status": "completed"
    },
    "tags": []
   },
   "source": [
    "## Requirements \n",
    "\n",
    "- Present one or several descriptive statistics that give an idea of how the data behaves (over time, in space, in both dimensions; by bank name, type of complaint, etc.) \n",
    "- The statistics should be accompanied by a brief explanation that makes sense of them. \n",
    "- As part of the previous instruction, create one or several visualizations that you think are important to understand the database. \n",
    "- Be selective, so that your visualization(s) tell a story with the data. You can use dynamic visualizations (plotly, bokeh, etc.) or static ones (matplotlib, seaborn, plotnine etc.)"
   ]
  },
  {
   "cell_type": "markdown",
   "id": "a46fc452",
   "metadata": {
    "papermill": {
     "duration": 0.026983,
     "end_time": "2024-07-16T17:27:16.303244",
     "exception": false,
     "start_time": "2024-07-16T17:27:16.276261",
     "status": "completed"
    },
    "tags": []
   },
   "source": [
    "### Complaints by Location\n",
    "\n",
    "We are going to visualize the number of complaints by state. As you can see, California is the state with the most complaints."
   ]
  },
  {
   "cell_type": "code",
   "execution_count": 46,
   "id": "a3c0b70e",
   "metadata": {
    "execution": {
     "iopub.execute_input": "2024-07-16T17:27:16.359491Z",
     "iopub.status.busy": "2024-07-16T17:27:16.358756Z",
     "iopub.status.idle": "2024-07-16T17:27:16.438070Z",
     "shell.execute_reply": "2024-07-16T17:27:16.437346Z"
    },
    "papermill": {
     "duration": 0.109688,
     "end_time": "2024-07-16T17:27:16.439967",
     "exception": false,
     "start_time": "2024-07-16T17:27:16.330279",
     "status": "completed"
    },
    "tags": []
   },
   "outputs": [],
   "source": [
    "states = df.groupby([\"state\"]).count()[[\"issue\"]]"
   ]
  },
  {
   "cell_type": "code",
   "execution_count": 47,
   "id": "55c33254",
   "metadata": {
    "execution": {
     "iopub.execute_input": "2024-07-16T17:27:16.495439Z",
     "iopub.status.busy": "2024-07-16T17:27:16.495169Z",
     "iopub.status.idle": "2024-07-16T17:27:16.502820Z",
     "shell.execute_reply": "2024-07-16T17:27:16.501950Z"
    },
    "papermill": {
     "duration": 0.037611,
     "end_time": "2024-07-16T17:27:16.504795",
     "exception": false,
     "start_time": "2024-07-16T17:27:16.467184",
     "status": "completed"
    },
    "tags": []
   },
   "outputs": [
    {
     "data": {
      "text/plain": [
       "state\n",
       "AA       2\n",
       "AE      65\n",
       "AK     185\n",
       "AL    1682\n",
       "AP      45\n",
       "      ... \n",
       "VT     218\n",
       "WA    3078\n",
       "WI    1616\n",
       "WV     394\n",
       "WY     139\n",
       "Name: issue, Length: 62, dtype: int64"
      ]
     },
     "execution_count": 47,
     "metadata": {},
     "output_type": "execute_result"
    }
   ],
   "source": [
    "states[\"issue\"]"
   ]
  },
  {
   "cell_type": "code",
   "execution_count": 48,
   "id": "fa492887",
   "metadata": {
    "execution": {
     "iopub.execute_input": "2024-07-16T17:27:16.560075Z",
     "iopub.status.busy": "2024-07-16T17:27:16.559781Z",
     "iopub.status.idle": "2024-07-16T17:27:17.982636Z",
     "shell.execute_reply": "2024-07-16T17:27:17.981713Z"
    },
    "papermill": {
     "duration": 1.45296,
     "end_time": "2024-07-16T17:27:17.984703",
     "exception": false,
     "start_time": "2024-07-16T17:27:16.531743",
     "status": "completed"
    },
    "tags": []
   },
   "outputs": [
    {
     "data": {
      "text/html": [
       "        <script type=\"text/javascript\">\n",
       "        window.PlotlyConfig = {MathJaxConfig: 'local'};\n",
       "        if (window.MathJax && window.MathJax.Hub && window.MathJax.Hub.Config) {window.MathJax.Hub.Config({SVG: {font: \"STIX-Web\"}});}\n",
       "        if (typeof require !== 'undefined') {\n",
       "        require.undef(\"plotly\");\n",
       "        requirejs.config({\n",
       "            paths: {\n",
       "                'plotly': ['https://cdn.plot.ly/plotly-2.27.0.min']\n",
       "            }\n",
       "        });\n",
       "        require(['plotly'], function(Plotly) {\n",
       "            window._Plotly = Plotly;\n",
       "        });\n",
       "        }\n",
       "        </script>\n",
       "        "
      ]
     },
     "metadata": {},
     "output_type": "display_data"
    },
    {
     "data": {
      "text/html": [
       "<div>                            <div id=\"842b456a-a4e4-4510-a7a0-6de1b52a6505\" class=\"plotly-graph-div\" style=\"height:525px; width:100%;\"></div>            <script type=\"text/javascript\">                require([\"plotly\"], function(Plotly) {                    window.PLOTLYENV=window.PLOTLYENV || {};                                    if (document.getElementById(\"842b456a-a4e4-4510-a7a0-6de1b52a6505\")) {                    Plotly.newPlot(                        \"842b456a-a4e4-4510-a7a0-6de1b52a6505\",                        [{\"autocolorscale\":false,\"colorbar\":{\"title\":{\"text\":\"Número de quejas\"}},\"colorscale\":[[0.0,\"rgb(242,240,247)\"],[0.2,\"rgb(218,218,235)\"],[0.4,\"rgb(188,189,220)\"],[0.6,\"rgb(158,154,200)\"],[0.8,\"rgb(117,107,177)\"],[1.0,\"rgb(84,39,143)\"]],\"locationmode\":\"USA-states\",\"locations\":[\"AA\",\"AE\",\"AK\",\"AL\",\"AP\",\"AR\",\"AS\",\"AZ\",\"CA\",\"CO\",\"CT\",\"DC\",\"DE\",\"FL\",\"FM\",\"GA\",\"GU\",\"HI\",\"IA\",\"ID\",\"IL\",\"IN\",\"KS\",\"KY\",\"LA\",\"MA\",\"MD\",\"ME\",\"MH\",\"MI\",\"MN\",\"MO\",\"MP\",\"MS\",\"MT\",\"NC\",\"ND\",\"NE\",\"NH\",\"NJ\",\"NM\",\"NV\",\"NY\",\"OH\",\"OK\",\"OR\",\"PA\",\"PR\",\"PW\",\"RI\",\"SC\",\"SD\",\"TN\",\"TX\",\"UT\",\"VA\",\"VI\",\"VT\",\"WA\",\"WI\",\"WV\",\"WY\"],\"marker\":{\"line\":{\"color\":\"rgb(255,255,255)\",\"width\":2}},\"z\":[2.0,65.0,185.0,1682.0,45.0,678.0,4.0,3455.0,21263.0,2607.0,1799.0,837.0,795.0,14796.0,9.0,7682.0,20.0,468.0,610.0,487.0,5898.0,1726.0,759.0,1176.0,1752.0,2840.0,4632.0,474.0,1.0,3774.0,1661.0,2055.0,2.0,862.0,278.0,4676.0,142.0,474.0,628.0,5842.0,712.0,1859.0,10320.0,4603.0,1029.0,1712.0,5250.0,385.0,5.0,476.0,2138.0,194.0,2527.0,12528.0,868.0,4712.0,31.0,218.0,3078.0,1616.0,394.0,139.0],\"type\":\"choropleth\"}],                        {\"geo\":{\"lakecolor\":\"rgb(255, 255, 255)\",\"projection\":{\"type\":\"albers usa\"},\"scope\":\"usa\",\"showlakes\":true},\"template\":{\"data\":{\"barpolar\":[{\"marker\":{\"line\":{\"color\":\"#E5ECF6\",\"width\":0.5},\"pattern\":{\"fillmode\":\"overlay\",\"size\":10,\"solidity\":0.2}},\"type\":\"barpolar\"}],\"bar\":[{\"error_x\":{\"color\":\"#2a3f5f\"},\"error_y\":{\"color\":\"#2a3f5f\"},\"marker\":{\"line\":{\"color\":\"#E5ECF6\",\"width\":0.5},\"pattern\":{\"fillmode\":\"overlay\",\"size\":10,\"solidity\":0.2}},\"type\":\"bar\"}],\"carpet\":[{\"aaxis\":{\"endlinecolor\":\"#2a3f5f\",\"gridcolor\":\"white\",\"linecolor\":\"white\",\"minorgridcolor\":\"white\",\"startlinecolor\":\"#2a3f5f\"},\"baxis\":{\"endlinecolor\":\"#2a3f5f\",\"gridcolor\":\"white\",\"linecolor\":\"white\",\"minorgridcolor\":\"white\",\"startlinecolor\":\"#2a3f5f\"},\"type\":\"carpet\"}],\"choropleth\":[{\"colorbar\":{\"outlinewidth\":0,\"ticks\":\"\"},\"type\":\"choropleth\"}],\"contourcarpet\":[{\"colorbar\":{\"outlinewidth\":0,\"ticks\":\"\"},\"type\":\"contourcarpet\"}],\"contour\":[{\"colorbar\":{\"outlinewidth\":0,\"ticks\":\"\"},\"colorscale\":[[0.0,\"#0d0887\"],[0.1111111111111111,\"#46039f\"],[0.2222222222222222,\"#7201a8\"],[0.3333333333333333,\"#9c179e\"],[0.4444444444444444,\"#bd3786\"],[0.5555555555555556,\"#d8576b\"],[0.6666666666666666,\"#ed7953\"],[0.7777777777777778,\"#fb9f3a\"],[0.8888888888888888,\"#fdca26\"],[1.0,\"#f0f921\"]],\"type\":\"contour\"}],\"heatmapgl\":[{\"colorbar\":{\"outlinewidth\":0,\"ticks\":\"\"},\"colorscale\":[[0.0,\"#0d0887\"],[0.1111111111111111,\"#46039f\"],[0.2222222222222222,\"#7201a8\"],[0.3333333333333333,\"#9c179e\"],[0.4444444444444444,\"#bd3786\"],[0.5555555555555556,\"#d8576b\"],[0.6666666666666666,\"#ed7953\"],[0.7777777777777778,\"#fb9f3a\"],[0.8888888888888888,\"#fdca26\"],[1.0,\"#f0f921\"]],\"type\":\"heatmapgl\"}],\"heatmap\":[{\"colorbar\":{\"outlinewidth\":0,\"ticks\":\"\"},\"colorscale\":[[0.0,\"#0d0887\"],[0.1111111111111111,\"#46039f\"],[0.2222222222222222,\"#7201a8\"],[0.3333333333333333,\"#9c179e\"],[0.4444444444444444,\"#bd3786\"],[0.5555555555555556,\"#d8576b\"],[0.6666666666666666,\"#ed7953\"],[0.7777777777777778,\"#fb9f3a\"],[0.8888888888888888,\"#fdca26\"],[1.0,\"#f0f921\"]],\"type\":\"heatmap\"}],\"histogram2dcontour\":[{\"colorbar\":{\"outlinewidth\":0,\"ticks\":\"\"},\"colorscale\":[[0.0,\"#0d0887\"],[0.1111111111111111,\"#46039f\"],[0.2222222222222222,\"#7201a8\"],[0.3333333333333333,\"#9c179e\"],[0.4444444444444444,\"#bd3786\"],[0.5555555555555556,\"#d8576b\"],[0.6666666666666666,\"#ed7953\"],[0.7777777777777778,\"#fb9f3a\"],[0.8888888888888888,\"#fdca26\"],[1.0,\"#f0f921\"]],\"type\":\"histogram2dcontour\"}],\"histogram2d\":[{\"colorbar\":{\"outlinewidth\":0,\"ticks\":\"\"},\"colorscale\":[[0.0,\"#0d0887\"],[0.1111111111111111,\"#46039f\"],[0.2222222222222222,\"#7201a8\"],[0.3333333333333333,\"#9c179e\"],[0.4444444444444444,\"#bd3786\"],[0.5555555555555556,\"#d8576b\"],[0.6666666666666666,\"#ed7953\"],[0.7777777777777778,\"#fb9f3a\"],[0.8888888888888888,\"#fdca26\"],[1.0,\"#f0f921\"]],\"type\":\"histogram2d\"}],\"histogram\":[{\"marker\":{\"pattern\":{\"fillmode\":\"overlay\",\"size\":10,\"solidity\":0.2}},\"type\":\"histogram\"}],\"mesh3d\":[{\"colorbar\":{\"outlinewidth\":0,\"ticks\":\"\"},\"type\":\"mesh3d\"}],\"parcoords\":[{\"line\":{\"colorbar\":{\"outlinewidth\":0,\"ticks\":\"\"}},\"type\":\"parcoords\"}],\"pie\":[{\"automargin\":true,\"type\":\"pie\"}],\"scatter3d\":[{\"line\":{\"colorbar\":{\"outlinewidth\":0,\"ticks\":\"\"}},\"marker\":{\"colorbar\":{\"outlinewidth\":0,\"ticks\":\"\"}},\"type\":\"scatter3d\"}],\"scattercarpet\":[{\"marker\":{\"colorbar\":{\"outlinewidth\":0,\"ticks\":\"\"}},\"type\":\"scattercarpet\"}],\"scattergeo\":[{\"marker\":{\"colorbar\":{\"outlinewidth\":0,\"ticks\":\"\"}},\"type\":\"scattergeo\"}],\"scattergl\":[{\"marker\":{\"colorbar\":{\"outlinewidth\":0,\"ticks\":\"\"}},\"type\":\"scattergl\"}],\"scattermapbox\":[{\"marker\":{\"colorbar\":{\"outlinewidth\":0,\"ticks\":\"\"}},\"type\":\"scattermapbox\"}],\"scatterpolargl\":[{\"marker\":{\"colorbar\":{\"outlinewidth\":0,\"ticks\":\"\"}},\"type\":\"scatterpolargl\"}],\"scatterpolar\":[{\"marker\":{\"colorbar\":{\"outlinewidth\":0,\"ticks\":\"\"}},\"type\":\"scatterpolar\"}],\"scatter\":[{\"fillpattern\":{\"fillmode\":\"overlay\",\"size\":10,\"solidity\":0.2},\"type\":\"scatter\"}],\"scatterternary\":[{\"marker\":{\"colorbar\":{\"outlinewidth\":0,\"ticks\":\"\"}},\"type\":\"scatterternary\"}],\"surface\":[{\"colorbar\":{\"outlinewidth\":0,\"ticks\":\"\"},\"colorscale\":[[0.0,\"#0d0887\"],[0.1111111111111111,\"#46039f\"],[0.2222222222222222,\"#7201a8\"],[0.3333333333333333,\"#9c179e\"],[0.4444444444444444,\"#bd3786\"],[0.5555555555555556,\"#d8576b\"],[0.6666666666666666,\"#ed7953\"],[0.7777777777777778,\"#fb9f3a\"],[0.8888888888888888,\"#fdca26\"],[1.0,\"#f0f921\"]],\"type\":\"surface\"}],\"table\":[{\"cells\":{\"fill\":{\"color\":\"#EBF0F8\"},\"line\":{\"color\":\"white\"}},\"header\":{\"fill\":{\"color\":\"#C8D4E3\"},\"line\":{\"color\":\"white\"}},\"type\":\"table\"}]},\"layout\":{\"annotationdefaults\":{\"arrowcolor\":\"#2a3f5f\",\"arrowhead\":0,\"arrowwidth\":1},\"autotypenumbers\":\"strict\",\"coloraxis\":{\"colorbar\":{\"outlinewidth\":0,\"ticks\":\"\"}},\"colorscale\":{\"diverging\":[[0,\"#8e0152\"],[0.1,\"#c51b7d\"],[0.2,\"#de77ae\"],[0.3,\"#f1b6da\"],[0.4,\"#fde0ef\"],[0.5,\"#f7f7f7\"],[0.6,\"#e6f5d0\"],[0.7,\"#b8e186\"],[0.8,\"#7fbc41\"],[0.9,\"#4d9221\"],[1,\"#276419\"]],\"sequential\":[[0.0,\"#0d0887\"],[0.1111111111111111,\"#46039f\"],[0.2222222222222222,\"#7201a8\"],[0.3333333333333333,\"#9c179e\"],[0.4444444444444444,\"#bd3786\"],[0.5555555555555556,\"#d8576b\"],[0.6666666666666666,\"#ed7953\"],[0.7777777777777778,\"#fb9f3a\"],[0.8888888888888888,\"#fdca26\"],[1.0,\"#f0f921\"]],\"sequentialminus\":[[0.0,\"#0d0887\"],[0.1111111111111111,\"#46039f\"],[0.2222222222222222,\"#7201a8\"],[0.3333333333333333,\"#9c179e\"],[0.4444444444444444,\"#bd3786\"],[0.5555555555555556,\"#d8576b\"],[0.6666666666666666,\"#ed7953\"],[0.7777777777777778,\"#fb9f3a\"],[0.8888888888888888,\"#fdca26\"],[1.0,\"#f0f921\"]]},\"colorway\":[\"#636efa\",\"#EF553B\",\"#00cc96\",\"#ab63fa\",\"#FFA15A\",\"#19d3f3\",\"#FF6692\",\"#B6E880\",\"#FF97FF\",\"#FECB52\"],\"font\":{\"color\":\"#2a3f5f\"},\"geo\":{\"bgcolor\":\"white\",\"lakecolor\":\"white\",\"landcolor\":\"#E5ECF6\",\"showlakes\":true,\"showland\":true,\"subunitcolor\":\"white\"},\"hoverlabel\":{\"align\":\"left\"},\"hovermode\":\"closest\",\"mapbox\":{\"style\":\"light\"},\"paper_bgcolor\":\"white\",\"plot_bgcolor\":\"#E5ECF6\",\"polar\":{\"angularaxis\":{\"gridcolor\":\"white\",\"linecolor\":\"white\",\"ticks\":\"\"},\"bgcolor\":\"#E5ECF6\",\"radialaxis\":{\"gridcolor\":\"white\",\"linecolor\":\"white\",\"ticks\":\"\"}},\"scene\":{\"xaxis\":{\"backgroundcolor\":\"#E5ECF6\",\"gridcolor\":\"white\",\"gridwidth\":2,\"linecolor\":\"white\",\"showbackground\":true,\"ticks\":\"\",\"zerolinecolor\":\"white\"},\"yaxis\":{\"backgroundcolor\":\"#E5ECF6\",\"gridcolor\":\"white\",\"gridwidth\":2,\"linecolor\":\"white\",\"showbackground\":true,\"ticks\":\"\",\"zerolinecolor\":\"white\"},\"zaxis\":{\"backgroundcolor\":\"#E5ECF6\",\"gridcolor\":\"white\",\"gridwidth\":2,\"linecolor\":\"white\",\"showbackground\":true,\"ticks\":\"\",\"zerolinecolor\":\"white\"}},\"shapedefaults\":{\"line\":{\"color\":\"#2a3f5f\"}},\"ternary\":{\"aaxis\":{\"gridcolor\":\"white\",\"linecolor\":\"white\",\"ticks\":\"\"},\"baxis\":{\"gridcolor\":\"white\",\"linecolor\":\"white\",\"ticks\":\"\"},\"bgcolor\":\"#E5ECF6\",\"caxis\":{\"gridcolor\":\"white\",\"linecolor\":\"white\",\"ticks\":\"\"}},\"title\":{\"x\":0.05},\"xaxis\":{\"automargin\":true,\"gridcolor\":\"white\",\"linecolor\":\"white\",\"ticks\":\"\",\"title\":{\"standoff\":15},\"zerolinecolor\":\"white\",\"zerolinewidth\":2},\"yaxis\":{\"automargin\":true,\"gridcolor\":\"white\",\"linecolor\":\"white\",\"ticks\":\"\",\"title\":{\"standoff\":15},\"zerolinecolor\":\"white\",\"zerolinewidth\":2}}},\"title\":{\"text\":\"Quejas por estado\"}},                        {\"responsive\": true}                    ).then(function(){\n",
       "                            \n",
       "var gd = document.getElementById('842b456a-a4e4-4510-a7a0-6de1b52a6505');\n",
       "var x = new MutationObserver(function (mutations, observer) {{\n",
       "        var display = window.getComputedStyle(gd).display;\n",
       "        if (!display || display === 'none') {{\n",
       "            console.log([gd, 'removed!']);\n",
       "            Plotly.purge(gd);\n",
       "            observer.disconnect();\n",
       "        }}\n",
       "}});\n",
       "\n",
       "// Listen for the removal of the full notebook cells\n",
       "var notebookContainer = gd.closest('#notebook-container');\n",
       "if (notebookContainer) {{\n",
       "    x.observe(notebookContainer, {childList: true});\n",
       "}}\n",
       "\n",
       "// Listen for the clearing of the current output cell\n",
       "var outputEl = gd.closest('.output');\n",
       "if (outputEl) {{\n",
       "    x.observe(outputEl, {childList: true});\n",
       "}}\n",
       "\n",
       "                        })                };                });            </script>        </div>"
      ]
     },
     "metadata": {},
     "output_type": "display_data"
    }
   ],
   "source": [
    "scl = [[0.0, 'rgb(242,240,247)'],[0.2, 'rgb(218,218,235)'],[0.4, 'rgb(188,189,220)'],\\\n",
    "            [0.6, 'rgb(158,154,200)'],[0.8, 'rgb(117,107,177)'],[1.0, 'rgb(84,39,143)']]\n",
    "\n",
    "data = [ dict(\n",
    "        type='choropleth',\n",
    "        colorscale = scl,\n",
    "        autocolorscale = False,\n",
    "        locations = states.index,\n",
    "        z = states['issue'].astype(float),\n",
    "        locationmode = 'USA-states',\n",
    "        marker = dict(\n",
    "            line = dict (\n",
    "                color = 'rgb(255,255,255)',\n",
    "                width = 2\n",
    "            )\n",
    "        ),\n",
    "        colorbar = dict(\n",
    "            title = \"Número de quejas\"\n",
    "        )\n",
    "    ) ]\n",
    "\n",
    "layout = dict(\n",
    "        title = 'Quejas por estado',\n",
    "        geo = dict(\n",
    "            scope='usa',\n",
    "            projection=dict( type='albers usa' ),\n",
    "            showlakes = True,\n",
    "            lakecolor = 'rgb(255, 255, 255)',\n",
    "        ),\n",
    "    )\n",
    "    \n",
    "fig = dict( data=data, layout=layout )\n",
    "\n",
    "url = py.iplot( fig , filename='d3-cloropleth-map.html')"
   ]
  },
  {
   "cell_type": "markdown",
   "id": "b33834cc",
   "metadata": {
    "papermill": {
     "duration": 0.02752,
     "end_time": "2024-07-16T17:27:18.040137",
     "exception": false,
     "start_time": "2024-07-16T17:27:18.012617",
     "status": "completed"
    },
    "tags": []
   },
   "source": [
    "### Complaints Over Time\n",
    "\n",
    "- First, let’s observe the distribution of complaints over time.\n",
    "- Then we will analyze the temporal behavior of complaints using time series. For this section, I followed the article [An End-to-End Project on Time Series Analysis and Forecasting with Python](https://towardsdatascience.com/an-end-to-end-project-on-time-series-analysis-and-forecasting-with-python-4835e6bf050b), adapting it to our data.\n",
    "- We will cut the data up to October 31, 2016, as the information for November is incomplete, and we do not have data after this month.\n",
    "- We group the data by date; we count the complaints per day and resample them by month.\n",
    "- We will visualize the time series\n",
    "- We look for optimal parameters for our SARIMAX model\n",
    "- Finally, we visualize the forecasts vs the actual data for 2016"
   ]
  },
  {
   "cell_type": "code",
   "execution_count": 49,
   "id": "04be706d",
   "metadata": {
    "execution": {
     "iopub.execute_input": "2024-07-16T17:27:18.096294Z",
     "iopub.status.busy": "2024-07-16T17:27:18.095978Z",
     "iopub.status.idle": "2024-07-16T17:27:19.906250Z",
     "shell.execute_reply": "2024-07-16T17:27:19.905335Z"
    },
    "papermill": {
     "duration": 1.840969,
     "end_time": "2024-07-16T17:27:19.908661",
     "exception": false,
     "start_time": "2024-07-16T17:27:18.067692",
     "status": "completed"
    },
    "tags": []
   },
   "outputs": [
    {
     "data": {
      "text/plain": [
       "<Axes: xlabel='date_received', ylabel='Density'>"
      ]
     },
     "execution_count": 49,
     "metadata": {},
     "output_type": "execute_result"
    },
    {
     "data": {
      "image/png": "[encoded data removed]",
      "text/plain": [
       "<Figure size 640x480 with 1 Axes>"
      ]
     },
     "metadata": {},
     "output_type": "display_data"
    }
   ],
   "source": [
    "sns.kdeplot(df[\"date_received\"])"
   ]
  },
  {
   "cell_type": "code",
   "execution_count": 50,
   "id": "982b5866",
   "metadata": {
    "execution": {
     "iopub.execute_input": "2024-07-16T17:27:19.971405Z",
     "iopub.status.busy": "2024-07-16T17:27:19.971056Z",
     "iopub.status.idle": "2024-07-16T17:27:19.977024Z",
     "shell.execute_reply": "2024-07-16T17:27:19.976093Z"
    },
    "papermill": {
     "duration": 0.041214,
     "end_time": "2024-07-16T17:27:19.979099",
     "exception": false,
     "start_time": "2024-07-16T17:27:19.937885",
     "status": "completed"
    },
    "tags": []
   },
   "outputs": [],
   "source": [
    "top_date = pd.to_datetime('2016-10-31')"
   ]
  },
  {
   "cell_type": "code",
   "execution_count": 51,
   "id": "27d535f1",
   "metadata": {
    "execution": {
     "iopub.execute_input": "2024-07-16T17:27:20.038090Z",
     "iopub.status.busy": "2024-07-16T17:27:20.037281Z",
     "iopub.status.idle": "2024-07-16T17:27:20.065248Z",
     "shell.execute_reply": "2024-07-16T17:27:20.064306Z"
    },
    "papermill": {
     "duration": 0.059361,
     "end_time": "2024-07-16T17:27:20.067146",
     "exception": false,
     "start_time": "2024-07-16T17:27:20.007785",
     "status": "completed"
    },
    "tags": []
   },
   "outputs": [
    {
     "data": {
      "text/html": [
       "<div>\n",
       "<style scoped>\n",
       "    .dataframe tbody tr th:only-of-type {\n",
       "        vertical-align: middle;\n",
       "    }\n",
       "\n",
       "    .dataframe tbody tr th {\n",
       "        vertical-align: top;\n",
       "    }\n",
       "\n",
       "    .dataframe thead th {\n",
       "        text-align: right;\n",
       "    }\n",
       "</style>\n",
       "<table border=\"1\" class=\"dataframe\">\n",
       "  <thead>\n",
       "    <tr style=\"text-align: right;\">\n",
       "      <th></th>\n",
       "      <th>count</th>\n",
       "    </tr>\n",
       "    <tr>\n",
       "      <th>date_received</th>\n",
       "      <th></th>\n",
       "    </tr>\n",
       "  </thead>\n",
       "  <tbody>\n",
       "    <tr>\n",
       "      <th>2016-06-01</th>\n",
       "      <td>2338</td>\n",
       "    </tr>\n",
       "    <tr>\n",
       "      <th>2016-07-01</th>\n",
       "      <td>2414</td>\n",
       "    </tr>\n",
       "    <tr>\n",
       "      <th>2016-08-01</th>\n",
       "      <td>2681</td>\n",
       "    </tr>\n",
       "    <tr>\n",
       "      <th>2016-09-01</th>\n",
       "      <td>2661</td>\n",
       "    </tr>\n",
       "    <tr>\n",
       "      <th>2016-10-01</th>\n",
       "      <td>2696</td>\n",
       "    </tr>\n",
       "  </tbody>\n",
       "</table>\n",
       "</div>"
      ],
      "text/plain": [
       "               count\n",
       "date_received       \n",
       "2016-06-01      2338\n",
       "2016-07-01      2414\n",
       "2016-08-01      2681\n",
       "2016-09-01      2661\n",
       "2016-10-01      2696"
      ]
     },
     "execution_count": 51,
     "metadata": {},
     "output_type": "execute_result"
    }
   ],
   "source": [
    "ts = df[[\"date_received\", \"count\"]].groupby(\"date_received\").sum()[:top_date].resample(\"MS\").sum()\n",
    "ts.tail()"
   ]
  },
  {
   "cell_type": "code",
   "execution_count": 52,
   "id": "f343a623",
   "metadata": {
    "execution": {
     "iopub.execute_input": "2024-07-16T17:27:20.125339Z",
     "iopub.status.busy": "2024-07-16T17:27:20.125038Z",
     "iopub.status.idle": "2024-07-16T17:27:20.386398Z",
     "shell.execute_reply": "2024-07-16T17:27:20.385473Z"
    },
    "papermill": {
     "duration": 0.29293,
     "end_time": "2024-07-16T17:27:20.388640",
     "exception": false,
     "start_time": "2024-07-16T17:27:20.095710",
     "status": "completed"
    },
    "tags": []
   },
   "outputs": [
    {
     "data": {
      "image/png": "[encoded data removed]",
      "text/plain": [
       "<Figure size 1500x600 with 1 Axes>"
      ]
     },
     "metadata": {},
     "output_type": "display_data"
    }
   ],
   "source": [
    "ts.plot(figsize=(15, 6))\n",
    "plt.show()"
   ]
  },
  {
   "cell_type": "code",
   "execution_count": 53,
   "id": "313a23ea",
   "metadata": {
    "execution": {
     "iopub.execute_input": "2024-07-16T17:27:20.449477Z",
     "iopub.status.busy": "2024-07-16T17:27:20.449173Z",
     "iopub.status.idle": "2024-07-16T17:27:27.385625Z",
     "shell.execute_reply": "2024-07-16T17:27:27.384684Z"
    },
    "papermill": {
     "duration": 6.969551,
     "end_time": "2024-07-16T17:27:27.388447",
     "exception": false,
     "start_time": "2024-07-16T17:27:20.418896",
     "status": "completed"
    },
    "tags": []
   },
   "outputs": [],
   "source": [
    "warnings.filterwarnings(\"ignore\")\n",
    "\n",
    "p = d = q = range(0, 2)\n",
    "pdq = list(itertools.product(p, d, q))\n",
    "seasonal_pdq = [(x[0], x[1], x[2], 12) for x in list(itertools.product(p, d, q))]\n",
    "\n",
    "opt_param = None\n",
    "opt_param_seasonal = None\n",
    "opt_results = None\n",
    "opt_aic = np.inf\n",
    "\n",
    "for param in pdq:\n",
    "    for param_seasonal in seasonal_pdq:\n",
    "        try:\n",
    "            mod = sm.tsa.statespace.SARIMAX(ts,\n",
    "                                            order=param,\n",
    "                                            seasonal_order=param_seasonal,\n",
    "                                            enforce_stationarity=False,\n",
    "                                            enforce_invertibility=False)\n",
    "            results = mod.fit(disp=False)\n",
    "            if results.aic < opt_aic:\n",
    "                opt_param = param\n",
    "                opt_param_seasonal = param_seasonal\n",
    "                opt_results = results\n",
    "                opt_aic = results.aic\n",
    "        except:\n",
    "            continue"
   ]
  },
  {
   "cell_type": "code",
   "execution_count": 54,
   "id": "e98fba70",
   "metadata": {
    "execution": {
     "iopub.execute_input": "2024-07-16T17:27:27.451776Z",
     "iopub.status.busy": "2024-07-16T17:27:27.450873Z",
     "iopub.status.idle": "2024-07-16T17:27:27.810928Z",
     "shell.execute_reply": "2024-07-16T17:27:27.810000Z"
    },
    "papermill": {
     "duration": 0.392952,
     "end_time": "2024-07-16T17:27:27.812888",
     "exception": false,
     "start_time": "2024-07-16T17:27:27.419936",
     "status": "completed"
    },
    "tags": []
   },
   "outputs": [
    {
     "data": {
      "image/png": "[encoded data removed]",
      "text/plain": [
       "<Figure size 1400x700 with 1 Axes>"
      ]
     },
     "metadata": {},
     "output_type": "display_data"
    }
   ],
   "source": [
    "pred = opt_results.get_prediction(start=pd.to_datetime('2016-01-01'), dynamic=False)\n",
    "pred_ci = pred.conf_int()\n",
    "ax = ts['2012':].plot(label='observed')\n",
    "pred.predicted_mean.plot(ax=ax, label='One-step ahead Forecast', alpha=.7, figsize=(14, 7))\n",
    "ax.fill_between(pred_ci.index,pred_ci.iloc[:, 0],pred_ci.iloc[:, 1], color='k', alpha=.2)\n",
    "ax.set_xlabel('Fecha')\n",
    "ax.set_ylabel('Número de quejas')\n",
    "plt.legend()\n",
    "plt.show()"
   ]
  },
  {
   "cell_type": "markdown",
   "id": "f4322853",
   "metadata": {
    "papermill": {
     "duration": 0.030232,
     "end_time": "2024-07-16T17:27:27.874909",
     "exception": false,
     "start_time": "2024-07-16T17:27:27.844677",
     "status": "completed"
    },
    "tags": []
   },
   "source": [
    "## Frequency of Complaints by Bank\n",
    "Using an \"edit-distance\" algorithm or any other that you consider relevant, normalize the names of the banks and generate a bar graph that shows the frequency of complaints by bank."
   ]
  },
  {
   "cell_type": "markdown",
   "id": "a408c6d9",
   "metadata": {
    "papermill": {
     "duration": 0.030606,
     "end_time": "2024-07-16T17:27:27.935922",
     "exception": false,
     "start_time": "2024-07-16T17:27:27.905316",
     "status": "completed"
    },
    "tags": []
   },
   "source": [
    "### Top 10 Complaints by Product"
   ]
  },
  {
   "cell_type": "code",
   "execution_count": 55,
   "id": "43fa5a99",
   "metadata": {
    "execution": {
     "iopub.execute_input": "2024-07-16T17:27:28.001202Z",
     "iopub.status.busy": "2024-07-16T17:27:28.000338Z",
     "iopub.status.idle": "2024-07-16T17:27:28.330862Z",
     "shell.execute_reply": "2024-07-16T17:27:28.329930Z"
    },
    "papermill": {
     "duration": 0.366365,
     "end_time": "2024-07-16T17:27:28.333061",
     "exception": false,
     "start_time": "2024-07-16T17:27:27.966696",
     "status": "completed"
    },
    "tags": []
   },
   "outputs": [
    {
     "data": {
      "image/png": "[encoded data removed]",
      "text/plain": [
       "<Figure size 640x480 with 1 Axes>"
      ]
     },
     "metadata": {},
     "output_type": "display_data"
    }
   ],
   "source": [
    "counter = Counter(df[\"product\"])\n",
    "top10_productos = OrderedDict(counter.most_common(10))\n",
    "plt.bar(list(top10_productos.keys()), list(top10_productos.values()))\n",
    "plt.xticks(rotation=90)\n",
    "plt.show()"
   ]
  },
  {
   "cell_type": "markdown",
   "id": "7c3469aa",
   "metadata": {
    "papermill": {
     "duration": 0.030965,
     "end_time": "2024-07-16T17:27:28.396428",
     "exception": false,
     "start_time": "2024-07-16T17:27:28.365463",
     "status": "completed"
    },
    "tags": []
   },
   "source": [
    "### Top 10 complaints by bank"
   ]
  },
  {
   "cell_type": "code",
   "execution_count": 56,
   "id": "8c9941da",
   "metadata": {
    "execution": {
     "iopub.execute_input": "2024-07-16T17:27:28.459643Z",
     "iopub.status.busy": "2024-07-16T17:27:28.459327Z",
     "iopub.status.idle": "2024-07-16T17:27:28.700837Z",
     "shell.execute_reply": "2024-07-16T17:27:28.699992Z"
    },
    "papermill": {
     "duration": 0.275948,
     "end_time": "2024-07-16T17:27:28.703196",
     "exception": false,
     "start_time": "2024-07-16T17:27:28.427248",
     "status": "completed"
    },
    "tags": []
   },
   "outputs": [
    {
     "data": {
      "image/png": "[encoded data removed]",
      "text/plain": [
       "<Figure size 640x480 with 1 Axes>"
      ]
     },
     "metadata": {},
     "output_type": "display_data"
    },
    {
     "data": {
      "text/plain": [
       "odict_keys(['equifax_inc', 'bank_america_national_association', 'experian_information_solutions_inc', 'transunion_intermediate_holdings_inc', 'wells_fargo_company', 'jpmorgan_chase_co', 'citibank_na', 'capital_one_financial_corporation', 'ocwen_loan_servicing_llc', 'navient_solutions_llc'])"
      ]
     },
     "execution_count": 56,
     "metadata": {},
     "output_type": "execute_result"
    }
   ],
   "source": [
    "counter = Counter(df[\"company\"])\n",
    "top10_bancos = OrderedDict(counter.most_common(10))\n",
    "plt.bar(list(top10_bancos.keys()), list(top10_bancos.values()))\n",
    "plt.xticks(rotation=90)\n",
    "plt.show()\n",
    "top10_bancos.keys()"
   ]
  },
  {
   "cell_type": "markdown",
   "id": "b47567c1",
   "metadata": {
    "papermill": {
     "duration": 0.032864,
     "end_time": "2024-07-16T17:27:28.769530",
     "exception": false,
     "start_time": "2024-07-16T17:27:28.736666",
     "status": "completed"
    },
    "tags": []
   },
   "source": [
    "### Top 10 complaints by bank/product"
   ]
  },
  {
   "cell_type": "code",
   "execution_count": 57,
   "id": "50c7f201",
   "metadata": {
    "execution": {
     "iopub.execute_input": "2024-07-16T17:27:28.836927Z",
     "iopub.status.busy": "2024-07-16T17:27:28.836271Z",
     "iopub.status.idle": "2024-07-16T17:27:28.922696Z",
     "shell.execute_reply": "2024-07-16T17:27:28.921661Z"
    },
    "papermill": {
     "duration": 0.122571,
     "end_time": "2024-07-16T17:27:28.924920",
     "exception": false,
     "start_time": "2024-07-16T17:27:28.802349",
     "status": "completed"
    },
    "tags": []
   },
   "outputs": [
    {
     "data": {
      "text/html": [
       "<div>\n",
       "<style scoped>\n",
       "    .dataframe tbody tr th:only-of-type {\n",
       "        vertical-align: middle;\n",
       "    }\n",
       "\n",
       "    .dataframe tbody tr th {\n",
       "        vertical-align: top;\n",
       "    }\n",
       "\n",
       "    .dataframe thead th {\n",
       "        text-align: right;\n",
       "    }\n",
       "</style>\n",
       "<table border=\"1\" class=\"dataframe\">\n",
       "  <thead>\n",
       "    <tr style=\"text-align: right;\">\n",
       "      <th></th>\n",
       "      <th></th>\n",
       "      <th>count</th>\n",
       "    </tr>\n",
       "    <tr>\n",
       "      <th>company</th>\n",
       "      <th>product</th>\n",
       "      <th></th>\n",
       "    </tr>\n",
       "  </thead>\n",
       "  <tbody>\n",
       "    <tr>\n",
       "      <th>equifax_inc</th>\n",
       "      <th>Credit reporting</th>\n",
       "      <td>7231</td>\n",
       "    </tr>\n",
       "    <tr>\n",
       "      <th>experian_information_solutions_inc</th>\n",
       "      <th>Credit reporting</th>\n",
       "      <td>6822</td>\n",
       "    </tr>\n",
       "    <tr>\n",
       "      <th>bank_america_national_association</th>\n",
       "      <th>Mortgage</th>\n",
       "      <td>6228</td>\n",
       "    </tr>\n",
       "    <tr>\n",
       "      <th>transunion_intermediate_holdings_inc</th>\n",
       "      <th>Credit reporting</th>\n",
       "      <td>6004</td>\n",
       "    </tr>\n",
       "    <tr>\n",
       "      <th>equifax_inc</th>\n",
       "      <th>Credit reporting, credit repair services, or other personal consumer reports</th>\n",
       "      <td>5269</td>\n",
       "    </tr>\n",
       "    <tr>\n",
       "      <th>wells_fargo_company</th>\n",
       "      <th>Mortgage</th>\n",
       "      <td>5088</td>\n",
       "    </tr>\n",
       "    <tr>\n",
       "      <th>experian_information_solutions_inc</th>\n",
       "      <th>Credit reporting, credit repair services, or other personal consumer reports</th>\n",
       "      <td>3929</td>\n",
       "    </tr>\n",
       "    <tr>\n",
       "      <th>transunion_intermediate_holdings_inc</th>\n",
       "      <th>Credit reporting, credit repair services, or other personal consumer reports</th>\n",
       "      <td>3831</td>\n",
       "    </tr>\n",
       "    <tr>\n",
       "      <th>ocwen_loan_servicing_llc</th>\n",
       "      <th>Mortgage</th>\n",
       "      <td>3786</td>\n",
       "    </tr>\n",
       "    <tr>\n",
       "      <th>navient_solutions_llc</th>\n",
       "      <th>Student loan</th>\n",
       "      <td>3226</td>\n",
       "    </tr>\n",
       "  </tbody>\n",
       "</table>\n",
       "</div>"
      ],
      "text/plain": [
       "                                                                                         count\n",
       "company                              product                                                  \n",
       "equifax_inc                          Credit reporting                                     7231\n",
       "experian_information_solutions_inc   Credit reporting                                     6822\n",
       "bank_america_national_association    Mortgage                                             6228\n",
       "transunion_intermediate_holdings_inc Credit reporting                                     6004\n",
       "equifax_inc                          Credit reporting, credit repair services, or ot...   5269\n",
       "wells_fargo_company                  Mortgage                                             5088\n",
       "experian_information_solutions_inc   Credit reporting, credit repair services, or ot...   3929\n",
       "transunion_intermediate_holdings_inc Credit reporting, credit repair services, or ot...   3831\n",
       "ocwen_loan_servicing_llc             Mortgage                                             3786\n",
       "navient_solutions_llc                Student loan                                         3226"
      ]
     },
     "execution_count": 57,
     "metadata": {},
     "output_type": "execute_result"
    }
   ],
   "source": [
    "df.groupby([\"company\", \"product\"]).count()[[\"count\"]].sort_values(by=[\"count\"], ascending=False).head(n = 10)"
   ]
  },
  {
   "cell_type": "markdown",
   "id": "02812d44",
   "metadata": {
    "papermill": {
     "duration": 0.033608,
     "end_time": "2024-07-16T17:27:28.991821",
     "exception": false,
     "start_time": "2024-07-16T17:27:28.958213",
     "status": "completed"
    },
    "tags": []
   },
   "source": [
    "## Recurring topics\n",
    "What topics do the complaints talk about?"
   ]
  },
  {
   "cell_type": "markdown",
   "id": "907a6761",
   "metadata": {
    "papermill": {
     "duration": 0.032138,
     "end_time": "2024-07-16T17:27:29.056645",
     "exception": false,
     "start_time": "2024-07-16T17:27:29.024507",
     "status": "completed"
    },
    "tags": []
   },
   "source": [
    "### Top ten complaints by subject"
   ]
  },
  {
   "cell_type": "code",
   "execution_count": 58,
   "id": "338a54d9",
   "metadata": {
    "execution": {
     "iopub.execute_input": "2024-07-16T17:27:29.123109Z",
     "iopub.status.busy": "2024-07-16T17:27:29.122492Z",
     "iopub.status.idle": "2024-07-16T17:27:29.156359Z",
     "shell.execute_reply": "2024-07-16T17:27:29.155458Z"
    },
    "papermill": {
     "duration": 0.069365,
     "end_time": "2024-07-16T17:27:29.158265",
     "exception": false,
     "start_time": "2024-07-16T17:27:29.088900",
     "status": "completed"
    },
    "tags": []
   },
   "outputs": [
    {
     "data": {
      "text/html": [
       "<div>\n",
       "<style scoped>\n",
       "    .dataframe tbody tr th:only-of-type {\n",
       "        vertical-align: middle;\n",
       "    }\n",
       "\n",
       "    .dataframe tbody tr th {\n",
       "        vertical-align: top;\n",
       "    }\n",
       "\n",
       "    .dataframe thead th {\n",
       "        text-align: right;\n",
       "    }\n",
       "</style>\n",
       "<table border=\"1\" class=\"dataframe\">\n",
       "  <thead>\n",
       "    <tr style=\"text-align: right;\">\n",
       "      <th></th>\n",
       "      <th>count</th>\n",
       "    </tr>\n",
       "    <tr>\n",
       "      <th>issue</th>\n",
       "      <th></th>\n",
       "    </tr>\n",
       "  </thead>\n",
       "  <tbody>\n",
       "    <tr>\n",
       "      <th>Loan modification,collection,foreclosure</th>\n",
       "      <td>17018</td>\n",
       "    </tr>\n",
       "    <tr>\n",
       "      <th>Incorrect information on credit report</th>\n",
       "      <td>15391</td>\n",
       "    </tr>\n",
       "    <tr>\n",
       "      <th>Loan servicing, payments, escrow account</th>\n",
       "      <td>11480</td>\n",
       "    </tr>\n",
       "    <tr>\n",
       "      <th>Incorrect information on your report</th>\n",
       "      <td>9164</td>\n",
       "    </tr>\n",
       "    <tr>\n",
       "      <th>Cont'd attempts collect debt not owed</th>\n",
       "      <td>9110</td>\n",
       "    </tr>\n",
       "    <tr>\n",
       "      <th>Account opening, closing, or management</th>\n",
       "      <td>5622</td>\n",
       "    </tr>\n",
       "    <tr>\n",
       "      <th>Disclosure verification of debt</th>\n",
       "      <td>4643</td>\n",
       "    </tr>\n",
       "    <tr>\n",
       "      <th>Communication tactics</th>\n",
       "      <td>4459</td>\n",
       "    </tr>\n",
       "    <tr>\n",
       "      <th>Problem with a credit reporting company's investigation into an existing problem</th>\n",
       "      <td>3695</td>\n",
       "    </tr>\n",
       "    <tr>\n",
       "      <th>Deposits and withdrawals</th>\n",
       "      <td>3376</td>\n",
       "    </tr>\n",
       "  </tbody>\n",
       "</table>\n",
       "</div>"
      ],
      "text/plain": [
       "                                                    count\n",
       "issue                                                    \n",
       "Loan modification,collection,foreclosure            17018\n",
       "Incorrect information on credit report              15391\n",
       "Loan servicing, payments, escrow account            11480\n",
       "Incorrect information on your report                 9164\n",
       "Cont'd attempts collect debt not owed                9110\n",
       "Account opening, closing, or management              5622\n",
       "Disclosure verification of debt                      4643\n",
       "Communication tactics                                4459\n",
       "Problem with a credit reporting company's inves...   3695\n",
       "Deposits and withdrawals                             3376"
      ]
     },
     "execution_count": 58,
     "metadata": {},
     "output_type": "execute_result"
    }
   ],
   "source": [
    "df[[\"issue\", \"count\"]].groupby([\"issue\"]).count().sort_values(by=[\"count\"], ascending=False).head(n=10)"
   ]
  },
  {
   "cell_type": "markdown",
   "id": "bd89bcce",
   "metadata": {
    "papermill": {
     "duration": 0.032278,
     "end_time": "2024-07-16T17:27:29.223470",
     "exception": false,
     "start_time": "2024-07-16T17:27:29.191192",
     "status": "completed"
    },
    "tags": []
   },
   "source": [
    "### Complaints by bank/issue"
   ]
  },
  {
   "cell_type": "code",
   "execution_count": 59,
   "id": "0ffc72bb",
   "metadata": {
    "execution": {
     "iopub.execute_input": "2024-07-16T17:27:29.289756Z",
     "iopub.status.busy": "2024-07-16T17:27:29.289454Z",
     "iopub.status.idle": "2024-07-16T17:27:29.372203Z",
     "shell.execute_reply": "2024-07-16T17:27:29.371204Z"
    },
    "papermill": {
     "duration": 0.118166,
     "end_time": "2024-07-16T17:27:29.374410",
     "exception": false,
     "start_time": "2024-07-16T17:27:29.256244",
     "status": "completed"
    },
    "tags": []
   },
   "outputs": [
    {
     "data": {
      "text/html": [
       "<div>\n",
       "<style scoped>\n",
       "    .dataframe tbody tr th:only-of-type {\n",
       "        vertical-align: middle;\n",
       "    }\n",
       "\n",
       "    .dataframe tbody tr th {\n",
       "        vertical-align: top;\n",
       "    }\n",
       "\n",
       "    .dataframe thead th {\n",
       "        text-align: right;\n",
       "    }\n",
       "</style>\n",
       "<table border=\"1\" class=\"dataframe\">\n",
       "  <thead>\n",
       "    <tr style=\"text-align: right;\">\n",
       "      <th>issue</th>\n",
       "      <th>APR or interest rate</th>\n",
       "      <th>Account opening, closing, or management</th>\n",
       "      <th>Account terms and changes</th>\n",
       "      <th>Adding money</th>\n",
       "      <th>Advertising</th>\n",
       "      <th>Advertising and marketing</th>\n",
       "      <th>Advertising and marketing, including promotional offers</th>\n",
       "      <th>Advertising, marketing or disclosures</th>\n",
       "      <th>Application processing delay</th>\n",
       "      <th>Application, originator, mortgage broker</th>\n",
       "      <th>...</th>\n",
       "      <th>Unauthorized transactions/trans. issues</th>\n",
       "      <th>Unexpected or other fees</th>\n",
       "      <th>Unexpected/Other fees</th>\n",
       "      <th>Unsolicited issuance of credit card</th>\n",
       "      <th>Using a debit or ATM card</th>\n",
       "      <th>Vehicle was damaged or destroyed the vehicle</th>\n",
       "      <th>Vehicle was repossessed or sold the vehicle</th>\n",
       "      <th>Was approved for a loan, but didn't receive the money</th>\n",
       "      <th>Written notification about debt</th>\n",
       "      <th>Wrong amount charged or received</th>\n",
       "    </tr>\n",
       "    <tr>\n",
       "      <th>company</th>\n",
       "      <th></th>\n",
       "      <th></th>\n",
       "      <th></th>\n",
       "      <th></th>\n",
       "      <th></th>\n",
       "      <th></th>\n",
       "      <th></th>\n",
       "      <th></th>\n",
       "      <th></th>\n",
       "      <th></th>\n",
       "      <th></th>\n",
       "      <th></th>\n",
       "      <th></th>\n",
       "      <th></th>\n",
       "      <th></th>\n",
       "      <th></th>\n",
       "      <th></th>\n",
       "      <th></th>\n",
       "      <th></th>\n",
       "      <th></th>\n",
       "      <th></th>\n",
       "    </tr>\n",
       "  </thead>\n",
       "  <tbody>\n",
       "    <tr>\n",
       "      <th>1st_alliance_lending_llc</th>\n",
       "      <td>0</td>\n",
       "      <td>0</td>\n",
       "      <td>0</td>\n",
       "      <td>0</td>\n",
       "      <td>0</td>\n",
       "      <td>0</td>\n",
       "      <td>0</td>\n",
       "      <td>0</td>\n",
       "      <td>0</td>\n",
       "      <td>0</td>\n",
       "      <td>...</td>\n",
       "      <td>0</td>\n",
       "      <td>0</td>\n",
       "      <td>0</td>\n",
       "      <td>0</td>\n",
       "      <td>0</td>\n",
       "      <td>0</td>\n",
       "      <td>0</td>\n",
       "      <td>0</td>\n",
       "      <td>0</td>\n",
       "      <td>0</td>\n",
       "    </tr>\n",
       "    <tr>\n",
       "      <th>1st_fidelity_loan_servicing</th>\n",
       "      <td>0</td>\n",
       "      <td>0</td>\n",
       "      <td>0</td>\n",
       "      <td>0</td>\n",
       "      <td>0</td>\n",
       "      <td>0</td>\n",
       "      <td>0</td>\n",
       "      <td>0</td>\n",
       "      <td>0</td>\n",
       "      <td>0</td>\n",
       "      <td>...</td>\n",
       "      <td>0</td>\n",
       "      <td>0</td>\n",
       "      <td>0</td>\n",
       "      <td>0</td>\n",
       "      <td>0</td>\n",
       "      <td>0</td>\n",
       "      <td>0</td>\n",
       "      <td>0</td>\n",
       "      <td>0</td>\n",
       "      <td>0</td>\n",
       "    </tr>\n",
       "    <tr>\n",
       "      <th>1st_financial_inc</th>\n",
       "      <td>0</td>\n",
       "      <td>0</td>\n",
       "      <td>0</td>\n",
       "      <td>0</td>\n",
       "      <td>0</td>\n",
       "      <td>0</td>\n",
       "      <td>0</td>\n",
       "      <td>0</td>\n",
       "      <td>0</td>\n",
       "      <td>0</td>\n",
       "      <td>...</td>\n",
       "      <td>0</td>\n",
       "      <td>0</td>\n",
       "      <td>0</td>\n",
       "      <td>0</td>\n",
       "      <td>0</td>\n",
       "      <td>0</td>\n",
       "      <td>0</td>\n",
       "      <td>0</td>\n",
       "      <td>0</td>\n",
       "      <td>0</td>\n",
       "    </tr>\n",
       "    <tr>\n",
       "      <th>1st_franklin_financial_corporation</th>\n",
       "      <td>0</td>\n",
       "      <td>1</td>\n",
       "      <td>0</td>\n",
       "      <td>0</td>\n",
       "      <td>0</td>\n",
       "      <td>0</td>\n",
       "      <td>0</td>\n",
       "      <td>0</td>\n",
       "      <td>0</td>\n",
       "      <td>0</td>\n",
       "      <td>...</td>\n",
       "      <td>0</td>\n",
       "      <td>0</td>\n",
       "      <td>0</td>\n",
       "      <td>0</td>\n",
       "      <td>0</td>\n",
       "      <td>0</td>\n",
       "      <td>0</td>\n",
       "      <td>0</td>\n",
       "      <td>0</td>\n",
       "      <td>0</td>\n",
       "    </tr>\n",
       "    <tr>\n",
       "      <th>1st_maryl_mortgage_corporation</th>\n",
       "      <td>0</td>\n",
       "      <td>0</td>\n",
       "      <td>0</td>\n",
       "      <td>0</td>\n",
       "      <td>0</td>\n",
       "      <td>0</td>\n",
       "      <td>0</td>\n",
       "      <td>0</td>\n",
       "      <td>0</td>\n",
       "      <td>0</td>\n",
       "      <td>...</td>\n",
       "      <td>0</td>\n",
       "      <td>0</td>\n",
       "      <td>0</td>\n",
       "      <td>0</td>\n",
       "      <td>0</td>\n",
       "      <td>0</td>\n",
       "      <td>0</td>\n",
       "      <td>0</td>\n",
       "      <td>0</td>\n",
       "      <td>0</td>\n",
       "    </tr>\n",
       "    <tr>\n",
       "      <th>...</th>\n",
       "      <td>...</td>\n",
       "      <td>...</td>\n",
       "      <td>...</td>\n",
       "      <td>...</td>\n",
       "      <td>...</td>\n",
       "      <td>...</td>\n",
       "      <td>...</td>\n",
       "      <td>...</td>\n",
       "      <td>...</td>\n",
       "      <td>...</td>\n",
       "      <td>...</td>\n",
       "      <td>...</td>\n",
       "      <td>...</td>\n",
       "      <td>...</td>\n",
       "      <td>...</td>\n",
       "      <td>...</td>\n",
       "      <td>...</td>\n",
       "      <td>...</td>\n",
       "      <td>...</td>\n",
       "      <td>...</td>\n",
       "      <td>...</td>\n",
       "    </tr>\n",
       "    <tr>\n",
       "      <th>zenith_financial_network_inc</th>\n",
       "      <td>0</td>\n",
       "      <td>0</td>\n",
       "      <td>0</td>\n",
       "      <td>0</td>\n",
       "      <td>0</td>\n",
       "      <td>0</td>\n",
       "      <td>0</td>\n",
       "      <td>0</td>\n",
       "      <td>0</td>\n",
       "      <td>0</td>\n",
       "      <td>...</td>\n",
       "      <td>0</td>\n",
       "      <td>0</td>\n",
       "      <td>0</td>\n",
       "      <td>0</td>\n",
       "      <td>0</td>\n",
       "      <td>0</td>\n",
       "      <td>0</td>\n",
       "      <td>0</td>\n",
       "      <td>0</td>\n",
       "      <td>0</td>\n",
       "    </tr>\n",
       "    <tr>\n",
       "      <th>zeus_mortgage_ltd</th>\n",
       "      <td>0</td>\n",
       "      <td>0</td>\n",
       "      <td>0</td>\n",
       "      <td>0</td>\n",
       "      <td>0</td>\n",
       "      <td>0</td>\n",
       "      <td>0</td>\n",
       "      <td>0</td>\n",
       "      <td>0</td>\n",
       "      <td>2</td>\n",
       "      <td>...</td>\n",
       "      <td>0</td>\n",
       "      <td>0</td>\n",
       "      <td>0</td>\n",
       "      <td>0</td>\n",
       "      <td>0</td>\n",
       "      <td>0</td>\n",
       "      <td>0</td>\n",
       "      <td>0</td>\n",
       "      <td>0</td>\n",
       "      <td>0</td>\n",
       "    </tr>\n",
       "    <tr>\n",
       "      <th>zions_bancorporation</th>\n",
       "      <td>0</td>\n",
       "      <td>10</td>\n",
       "      <td>0</td>\n",
       "      <td>0</td>\n",
       "      <td>0</td>\n",
       "      <td>0</td>\n",
       "      <td>0</td>\n",
       "      <td>0</td>\n",
       "      <td>0</td>\n",
       "      <td>0</td>\n",
       "      <td>...</td>\n",
       "      <td>0</td>\n",
       "      <td>0</td>\n",
       "      <td>0</td>\n",
       "      <td>0</td>\n",
       "      <td>1</td>\n",
       "      <td>0</td>\n",
       "      <td>0</td>\n",
       "      <td>0</td>\n",
       "      <td>1</td>\n",
       "      <td>0</td>\n",
       "    </tr>\n",
       "    <tr>\n",
       "      <th>zoa_llc</th>\n",
       "      <td>0</td>\n",
       "      <td>0</td>\n",
       "      <td>0</td>\n",
       "      <td>0</td>\n",
       "      <td>0</td>\n",
       "      <td>0</td>\n",
       "      <td>0</td>\n",
       "      <td>0</td>\n",
       "      <td>0</td>\n",
       "      <td>0</td>\n",
       "      <td>...</td>\n",
       "      <td>0</td>\n",
       "      <td>0</td>\n",
       "      <td>0</td>\n",
       "      <td>0</td>\n",
       "      <td>0</td>\n",
       "      <td>0</td>\n",
       "      <td>0</td>\n",
       "      <td>0</td>\n",
       "      <td>0</td>\n",
       "      <td>0</td>\n",
       "    </tr>\n",
       "    <tr>\n",
       "      <th>zwicker_associates</th>\n",
       "      <td>0</td>\n",
       "      <td>0</td>\n",
       "      <td>0</td>\n",
       "      <td>0</td>\n",
       "      <td>0</td>\n",
       "      <td>0</td>\n",
       "      <td>0</td>\n",
       "      <td>0</td>\n",
       "      <td>0</td>\n",
       "      <td>0</td>\n",
       "      <td>...</td>\n",
       "      <td>0</td>\n",
       "      <td>0</td>\n",
       "      <td>0</td>\n",
       "      <td>0</td>\n",
       "      <td>0</td>\n",
       "      <td>0</td>\n",
       "      <td>0</td>\n",
       "      <td>0</td>\n",
       "      <td>1</td>\n",
       "      <td>0</td>\n",
       "    </tr>\n",
       "  </tbody>\n",
       "</table>\n",
       "<p>2881 rows × 161 columns</p>\n",
       "</div>"
      ],
      "text/plain": [
       "issue                               APR or interest rate  \\\n",
       "company                                                    \n",
       "1st_alliance_lending_llc                               0   \n",
       "1st_fidelity_loan_servicing                            0   \n",
       "1st_financial_inc                                      0   \n",
       "1st_franklin_financial_corporation                     0   \n",
       "1st_maryl_mortgage_corporation                         0   \n",
       "...                                                  ...   \n",
       "zenith_financial_network_inc                           0   \n",
       "zeus_mortgage_ltd                                      0   \n",
       "zions_bancorporation                                   0   \n",
       "zoa_llc                                                0   \n",
       "zwicker_associates                                     0   \n",
       "\n",
       "issue                               Account opening, closing, or management  \\\n",
       "company                                                                       \n",
       "1st_alliance_lending_llc                                                  0   \n",
       "1st_fidelity_loan_servicing                                               0   \n",
       "1st_financial_inc                                                         0   \n",
       "1st_franklin_financial_corporation                                        1   \n",
       "1st_maryl_mortgage_corporation                                            0   \n",
       "...                                                                     ...   \n",
       "zenith_financial_network_inc                                              0   \n",
       "zeus_mortgage_ltd                                                         0   \n",
       "zions_bancorporation                                                     10   \n",
       "zoa_llc                                                                   0   \n",
       "zwicker_associates                                                        0   \n",
       "\n",
       "issue                               Account terms and changes  Adding money  \\\n",
       "company                                                                       \n",
       "1st_alliance_lending_llc                                    0             0   \n",
       "1st_fidelity_loan_servicing                                 0             0   \n",
       "1st_financial_inc                                           0             0   \n",
       "1st_franklin_financial_corporation                          0             0   \n",
       "1st_maryl_mortgage_corporation                              0             0   \n",
       "...                                                       ...           ...   \n",
       "zenith_financial_network_inc                                0             0   \n",
       "zeus_mortgage_ltd                                           0             0   \n",
       "zions_bancorporation                                        0             0   \n",
       "zoa_llc                                                     0             0   \n",
       "zwicker_associates                                          0             0   \n",
       "\n",
       "issue                               Advertising  Advertising and marketing  \\\n",
       "company                                                                      \n",
       "1st_alliance_lending_llc                      0                          0   \n",
       "1st_fidelity_loan_servicing                   0                          0   \n",
       "1st_financial_inc                             0                          0   \n",
       "1st_franklin_financial_corporation            0                          0   \n",
       "1st_maryl_mortgage_corporation                0                          0   \n",
       "...                                         ...                        ...   \n",
       "zenith_financial_network_inc                  0                          0   \n",
       "zeus_mortgage_ltd                             0                          0   \n",
       "zions_bancorporation                          0                          0   \n",
       "zoa_llc                                       0                          0   \n",
       "zwicker_associates                            0                          0   \n",
       "\n",
       "issue                               Advertising and marketing, including promotional offers  \\\n",
       "company                                                                                       \n",
       "1st_alliance_lending_llc                                                            0         \n",
       "1st_fidelity_loan_servicing                                                         0         \n",
       "1st_financial_inc                                                                   0         \n",
       "1st_franklin_financial_corporation                                                  0         \n",
       "1st_maryl_mortgage_corporation                                                      0         \n",
       "...                                                                               ...         \n",
       "zenith_financial_network_inc                                                        0         \n",
       "zeus_mortgage_ltd                                                                   0         \n",
       "zions_bancorporation                                                                0         \n",
       "zoa_llc                                                                             0         \n",
       "zwicker_associates                                                                  0         \n",
       "\n",
       "issue                               Advertising, marketing or disclosures  \\\n",
       "company                                                                     \n",
       "1st_alliance_lending_llc                                                0   \n",
       "1st_fidelity_loan_servicing                                             0   \n",
       "1st_financial_inc                                                       0   \n",
       "1st_franklin_financial_corporation                                      0   \n",
       "1st_maryl_mortgage_corporation                                          0   \n",
       "...                                                                   ...   \n",
       "zenith_financial_network_inc                                            0   \n",
       "zeus_mortgage_ltd                                                       0   \n",
       "zions_bancorporation                                                    0   \n",
       "zoa_llc                                                                 0   \n",
       "zwicker_associates                                                      0   \n",
       "\n",
       "issue                               Application processing delay  \\\n",
       "company                                                            \n",
       "1st_alliance_lending_llc                                       0   \n",
       "1st_fidelity_loan_servicing                                    0   \n",
       "1st_financial_inc                                              0   \n",
       "1st_franklin_financial_corporation                             0   \n",
       "1st_maryl_mortgage_corporation                                 0   \n",
       "...                                                          ...   \n",
       "zenith_financial_network_inc                                   0   \n",
       "zeus_mortgage_ltd                                              0   \n",
       "zions_bancorporation                                           0   \n",
       "zoa_llc                                                        0   \n",
       "zwicker_associates                                             0   \n",
       "\n",
       "issue                               Application, originator, mortgage broker  \\\n",
       "company                                                                        \n",
       "1st_alliance_lending_llc                                                   0   \n",
       "1st_fidelity_loan_servicing                                                0   \n",
       "1st_financial_inc                                                          0   \n",
       "1st_franklin_financial_corporation                                         0   \n",
       "1st_maryl_mortgage_corporation                                             0   \n",
       "...                                                                      ...   \n",
       "zenith_financial_network_inc                                               0   \n",
       "zeus_mortgage_ltd                                                          2   \n",
       "zions_bancorporation                                                       0   \n",
       "zoa_llc                                                                    0   \n",
       "zwicker_associates                                                         0   \n",
       "\n",
       "issue                               ...  \\\n",
       "company                             ...   \n",
       "1st_alliance_lending_llc            ...   \n",
       "1st_fidelity_loan_servicing         ...   \n",
       "1st_financial_inc                   ...   \n",
       "1st_franklin_financial_corporation  ...   \n",
       "1st_maryl_mortgage_corporation      ...   \n",
       "...                                 ...   \n",
       "zenith_financial_network_inc        ...   \n",
       "zeus_mortgage_ltd                   ...   \n",
       "zions_bancorporation                ...   \n",
       "zoa_llc                             ...   \n",
       "zwicker_associates                  ...   \n",
       "\n",
       "issue                               Unauthorized transactions/trans. issues  \\\n",
       "company                                                                       \n",
       "1st_alliance_lending_llc                                                  0   \n",
       "1st_fidelity_loan_servicing                                               0   \n",
       "1st_financial_inc                                                         0   \n",
       "1st_franklin_financial_corporation                                        0   \n",
       "1st_maryl_mortgage_corporation                                            0   \n",
       "...                                                                     ...   \n",
       "zenith_financial_network_inc                                              0   \n",
       "zeus_mortgage_ltd                                                         0   \n",
       "zions_bancorporation                                                      0   \n",
       "zoa_llc                                                                   0   \n",
       "zwicker_associates                                                        0   \n",
       "\n",
       "issue                               Unexpected or other fees  \\\n",
       "company                                                        \n",
       "1st_alliance_lending_llc                                   0   \n",
       "1st_fidelity_loan_servicing                                0   \n",
       "1st_financial_inc                                          0   \n",
       "1st_franklin_financial_corporation                         0   \n",
       "1st_maryl_mortgage_corporation                             0   \n",
       "...                                                      ...   \n",
       "zenith_financial_network_inc                               0   \n",
       "zeus_mortgage_ltd                                          0   \n",
       "zions_bancorporation                                       0   \n",
       "zoa_llc                                                    0   \n",
       "zwicker_associates                                         0   \n",
       "\n",
       "issue                               Unexpected/Other fees  \\\n",
       "company                                                     \n",
       "1st_alliance_lending_llc                                0   \n",
       "1st_fidelity_loan_servicing                             0   \n",
       "1st_financial_inc                                       0   \n",
       "1st_franklin_financial_corporation                      0   \n",
       "1st_maryl_mortgage_corporation                          0   \n",
       "...                                                   ...   \n",
       "zenith_financial_network_inc                            0   \n",
       "zeus_mortgage_ltd                                       0   \n",
       "zions_bancorporation                                    0   \n",
       "zoa_llc                                                 0   \n",
       "zwicker_associates                                      0   \n",
       "\n",
       "issue                               Unsolicited issuance of credit card  \\\n",
       "company                                                                   \n",
       "1st_alliance_lending_llc                                              0   \n",
       "1st_fidelity_loan_servicing                                           0   \n",
       "1st_financial_inc                                                     0   \n",
       "1st_franklin_financial_corporation                                    0   \n",
       "1st_maryl_mortgage_corporation                                        0   \n",
       "...                                                                 ...   \n",
       "zenith_financial_network_inc                                          0   \n",
       "zeus_mortgage_ltd                                                     0   \n",
       "zions_bancorporation                                                  0   \n",
       "zoa_llc                                                               0   \n",
       "zwicker_associates                                                    0   \n",
       "\n",
       "issue                               Using a debit or ATM card  \\\n",
       "company                                                         \n",
       "1st_alliance_lending_llc                                    0   \n",
       "1st_fidelity_loan_servicing                                 0   \n",
       "1st_financial_inc                                           0   \n",
       "1st_franklin_financial_corporation                          0   \n",
       "1st_maryl_mortgage_corporation                              0   \n",
       "...                                                       ...   \n",
       "zenith_financial_network_inc                                0   \n",
       "zeus_mortgage_ltd                                           0   \n",
       "zions_bancorporation                                        1   \n",
       "zoa_llc                                                     0   \n",
       "zwicker_associates                                          0   \n",
       "\n",
       "issue                               Vehicle was damaged or destroyed the vehicle  \\\n",
       "company                                                                            \n",
       "1st_alliance_lending_llc                                                       0   \n",
       "1st_fidelity_loan_servicing                                                    0   \n",
       "1st_financial_inc                                                              0   \n",
       "1st_franklin_financial_corporation                                             0   \n",
       "1st_maryl_mortgage_corporation                                                 0   \n",
       "...                                                                          ...   \n",
       "zenith_financial_network_inc                                                   0   \n",
       "zeus_mortgage_ltd                                                              0   \n",
       "zions_bancorporation                                                           0   \n",
       "zoa_llc                                                                        0   \n",
       "zwicker_associates                                                             0   \n",
       "\n",
       "issue                               Vehicle was repossessed or sold the vehicle  \\\n",
       "company                                                                           \n",
       "1st_alliance_lending_llc                                                      0   \n",
       "1st_fidelity_loan_servicing                                                   0   \n",
       "1st_financial_inc                                                             0   \n",
       "1st_franklin_financial_corporation                                            0   \n",
       "1st_maryl_mortgage_corporation                                                0   \n",
       "...                                                                         ...   \n",
       "zenith_financial_network_inc                                                  0   \n",
       "zeus_mortgage_ltd                                                             0   \n",
       "zions_bancorporation                                                          0   \n",
       "zoa_llc                                                                       0   \n",
       "zwicker_associates                                                            0   \n",
       "\n",
       "issue                               Was approved for a loan, but didn't receive the money  \\\n",
       "company                                                                                     \n",
       "1st_alliance_lending_llc                                                            0       \n",
       "1st_fidelity_loan_servicing                                                         0       \n",
       "1st_financial_inc                                                                   0       \n",
       "1st_franklin_financial_corporation                                                  0       \n",
       "1st_maryl_mortgage_corporation                                                      0       \n",
       "...                                                                               ...       \n",
       "zenith_financial_network_inc                                                        0       \n",
       "zeus_mortgage_ltd                                                                   0       \n",
       "zions_bancorporation                                                                0       \n",
       "zoa_llc                                                                             0       \n",
       "zwicker_associates                                                                  0       \n",
       "\n",
       "issue                               Written notification about debt  \\\n",
       "company                                                               \n",
       "1st_alliance_lending_llc                                          0   \n",
       "1st_fidelity_loan_servicing                                       0   \n",
       "1st_financial_inc                                                 0   \n",
       "1st_franklin_financial_corporation                                0   \n",
       "1st_maryl_mortgage_corporation                                    0   \n",
       "...                                                             ...   \n",
       "zenith_financial_network_inc                                      0   \n",
       "zeus_mortgage_ltd                                                 0   \n",
       "zions_bancorporation                                              1   \n",
       "zoa_llc                                                           0   \n",
       "zwicker_associates                                                1   \n",
       "\n",
       "issue                               Wrong amount charged or received  \n",
       "company                                                               \n",
       "1st_alliance_lending_llc                                           0  \n",
       "1st_fidelity_loan_servicing                                        0  \n",
       "1st_financial_inc                                                  0  \n",
       "1st_franklin_financial_corporation                                 0  \n",
       "1st_maryl_mortgage_corporation                                     0  \n",
       "...                                                              ...  \n",
       "zenith_financial_network_inc                                       0  \n",
       "zeus_mortgage_ltd                                                  0  \n",
       "zions_bancorporation                                               0  \n",
       "zoa_llc                                                            0  \n",
       "zwicker_associates                                                 0  \n",
       "\n",
       "[2881 rows x 161 columns]"
      ]
     },
     "execution_count": 59,
     "metadata": {},
     "output_type": "execute_result"
    }
   ],
   "source": [
    "pd.pivot_table(df, values=\"count\", index=[\"company\"], columns=[\"issue\"], aggfunc=np.sum, fill_value=0)"
   ]
  },
  {
   "cell_type": "markdown",
   "id": "646849b8",
   "metadata": {
    "papermill": {
     "duration": 0.034292,
     "end_time": "2024-07-16T17:27:29.442852",
     "exception": false,
     "start_time": "2024-07-16T17:27:29.408560",
     "status": "completed"
    },
    "tags": []
   },
   "source": [
    "## Data dimension\n",
    "Develop an unsupervised learning model to understand a dimension of data in which they are clearly clusterable."
   ]
  },
  {
   "cell_type": "markdown",
   "id": "406dfbe9",
   "metadata": {
    "papermill": {
     "duration": 0.034541,
     "end_time": "2024-07-16T17:27:29.512055",
     "exception": false,
     "start_time": "2024-07-16T17:27:29.477514",
     "status": "completed"
    },
    "tags": []
   },
   "source": [
    "### PCA\n",
    "\n",
    "In this first step, we are going to perform a principal component analysis of our training matrix. We will choose the two components that best explain the variance, to be able to visualize them. Each data will be projected onto these two components, giving us the coordinates for grouping."
   ]
  },
  {
   "cell_type": "code",
   "execution_count": 60,
   "id": "1d625608",
   "metadata": {
    "execution": {
     "iopub.execute_input": "2024-07-16T17:27:29.583033Z",
     "iopub.status.busy": "2024-07-16T17:27:29.582331Z",
     "iopub.status.idle": "2024-07-16T17:27:29.588464Z",
     "shell.execute_reply": "2024-07-16T17:27:29.587605Z"
    },
    "papermill": {
     "duration": 0.043665,
     "end_time": "2024-07-16T17:27:29.590471",
     "exception": false,
     "start_time": "2024-07-16T17:27:29.546806",
     "status": "completed"
    },
    "tags": []
   },
   "outputs": [
    {
     "data": {
      "text/plain": [
       "123000"
      ]
     },
     "execution_count": 60,
     "metadata": {},
     "output_type": "execute_result"
    }
   ],
   "source": [
    "n,p = X_train.shape\n",
    "n"
   ]
  },
  {
   "cell_type": "code",
   "execution_count": 61,
   "id": "3c48a2fe",
   "metadata": {
    "execution": {
     "iopub.execute_input": "2024-07-16T17:27:29.661523Z",
     "iopub.status.busy": "2024-07-16T17:27:29.660812Z",
     "iopub.status.idle": "2024-07-16T17:27:29.665290Z",
     "shell.execute_reply": "2024-07-16T17:27:29.664325Z"
    },
    "papermill": {
     "duration": 0.041808,
     "end_time": "2024-07-16T17:27:29.667209",
     "exception": false,
     "start_time": "2024-07-16T17:27:29.625401",
     "status": "completed"
    },
    "tags": []
   },
   "outputs": [],
   "source": [
    "pca = PCA(n_components=2)"
   ]
  },
  {
   "cell_type": "code",
   "execution_count": 62,
   "id": "1f16a082",
   "metadata": {
    "execution": {
     "iopub.execute_input": "2024-07-16T17:27:29.737599Z",
     "iopub.status.busy": "2024-07-16T17:27:29.736986Z",
     "iopub.status.idle": "2024-07-16T17:27:29.832206Z",
     "shell.execute_reply": "2024-07-16T17:27:29.831182Z"
    },
    "papermill": {
     "duration": 0.133048,
     "end_time": "2024-07-16T17:27:29.834708",
     "exception": false,
     "start_time": "2024-07-16T17:27:29.701660",
     "status": "completed"
    },
    "tags": []
   },
   "outputs": [],
   "source": [
    "X_train_sample = X_train[np.random.choice(X_train.shape[0], int(0.10*X_train.shape[0]), replace=False), :]"
   ]
  },
  {
   "cell_type": "code",
   "execution_count": 63,
   "id": "f5726508",
   "metadata": {
    "execution": {
     "iopub.execute_input": "2024-07-16T17:27:29.904388Z",
     "iopub.status.busy": "2024-07-16T17:27:29.904024Z",
     "iopub.status.idle": "2024-07-16T17:27:31.775860Z",
     "shell.execute_reply": "2024-07-16T17:27:31.774830Z"
    },
    "papermill": {
     "duration": 1.908662,
     "end_time": "2024-07-16T17:27:31.778170",
     "exception": false,
     "start_time": "2024-07-16T17:27:29.869508",
     "status": "completed"
    },
    "tags": []
   },
   "outputs": [],
   "source": [
    "X_pca = pca.fit_transform(X_train_sample)"
   ]
  },
  {
   "cell_type": "code",
   "execution_count": 64,
   "id": "181e63b6",
   "metadata": {
    "execution": {
     "iopub.execute_input": "2024-07-16T17:27:31.850551Z",
     "iopub.status.busy": "2024-07-16T17:27:31.850095Z",
     "iopub.status.idle": "2024-07-16T17:27:31.854580Z",
     "shell.execute_reply": "2024-07-16T17:27:31.853634Z"
    },
    "papermill": {
     "duration": 0.043231,
     "end_time": "2024-07-16T17:27:31.856500",
     "exception": false,
     "start_time": "2024-07-16T17:27:31.813269",
     "status": "completed"
    },
    "tags": []
   },
   "outputs": [],
   "source": [
    "explained_ratio = pca.explained_variance_ratio_"
   ]
  },
  {
   "cell_type": "code",
   "execution_count": 65,
   "id": "d28b159e",
   "metadata": {
    "execution": {
     "iopub.execute_input": "2024-07-16T17:27:31.928209Z",
     "iopub.status.busy": "2024-07-16T17:27:31.927336Z",
     "iopub.status.idle": "2024-07-16T17:27:31.934258Z",
     "shell.execute_reply": "2024-07-16T17:27:31.933218Z"
    },
    "papermill": {
     "duration": 0.044946,
     "end_time": "2024-07-16T17:27:31.936291",
     "exception": false,
     "start_time": "2024-07-16T17:27:31.891345",
     "status": "completed"
    },
    "tags": []
   },
   "outputs": [
    {
     "data": {
      "text/plain": [
       "array([0.11161521, 0.20828747])"
      ]
     },
     "execution_count": 65,
     "metadata": {},
     "output_type": "execute_result"
    }
   ],
   "source": [
    "np.add.accumulate(explained_ratio)"
   ]
  },
  {
   "cell_type": "code",
   "execution_count": 66,
   "id": "c7522d0a",
   "metadata": {
    "execution": {
     "iopub.execute_input": "2024-07-16T17:27:32.006533Z",
     "iopub.status.busy": "2024-07-16T17:27:32.006233Z",
     "iopub.status.idle": "2024-07-16T17:27:32.010359Z",
     "shell.execute_reply": "2024-07-16T17:27:32.009476Z"
    },
    "papermill": {
     "duration": 0.042343,
     "end_time": "2024-07-16T17:27:32.012380",
     "exception": false,
     "start_time": "2024-07-16T17:27:31.970037",
     "status": "completed"
    },
    "tags": []
   },
   "outputs": [],
   "source": [
    "e1, e2 = pca.components_"
   ]
  },
  {
   "cell_type": "code",
   "execution_count": 67,
   "id": "9f9701fe",
   "metadata": {
    "execution": {
     "iopub.execute_input": "2024-07-16T17:27:32.081286Z",
     "iopub.status.busy": "2024-07-16T17:27:32.080997Z",
     "iopub.status.idle": "2024-07-16T17:27:32.084906Z",
     "shell.execute_reply": "2024-07-16T17:27:32.084004Z"
    },
    "papermill": {
     "duration": 0.040621,
     "end_time": "2024-07-16T17:27:32.086802",
     "exception": false,
     "start_time": "2024-07-16T17:27:32.046181",
     "status": "completed"
    },
    "tags": []
   },
   "outputs": [],
   "source": [
    "p = len(e1)"
   ]
  },
  {
   "cell_type": "markdown",
   "id": "2382d1ad",
   "metadata": {
    "papermill": {
     "duration": 0.033894,
     "end_time": "2024-07-16T17:27:32.154522",
     "exception": false,
     "start_time": "2024-07-16T17:27:32.120628",
     "status": "completed"
    },
    "tags": []
   },
   "source": [
    "### Clustering\n",
    "\n",
    "In this second step, we will group the data, with its coordinates given by the two principal components, using the k-means algorithm. We will choose the number of clusters according to the distortion diagram, right at the point where the \"elbow\" of the graph is formed."
   ]
  },
  {
   "cell_type": "code",
   "execution_count": 68,
   "id": "97bb5495",
   "metadata": {
    "execution": {
     "iopub.execute_input": "2024-07-16T17:27:32.222912Z",
     "iopub.status.busy": "2024-07-16T17:27:32.222611Z",
     "iopub.status.idle": "2024-07-16T17:27:32.227518Z",
     "shell.execute_reply": "2024-07-16T17:27:32.226456Z"
    },
    "papermill": {
     "duration": 0.041551,
     "end_time": "2024-07-16T17:27:32.229607",
     "exception": false,
     "start_time": "2024-07-16T17:27:32.188056",
     "status": "completed"
    },
    "tags": []
   },
   "outputs": [],
   "source": [
    "x0 = X_pca[:,0].ravel()"
   ]
  },
  {
   "cell_type": "code",
   "execution_count": 69,
   "id": "752271bc",
   "metadata": {
    "execution": {
     "iopub.execute_input": "2024-07-16T17:27:32.299267Z",
     "iopub.status.busy": "2024-07-16T17:27:32.298945Z",
     "iopub.status.idle": "2024-07-16T17:27:32.303290Z",
     "shell.execute_reply": "2024-07-16T17:27:32.302423Z"
    },
    "papermill": {
     "duration": 0.041673,
     "end_time": "2024-07-16T17:27:32.305288",
     "exception": false,
     "start_time": "2024-07-16T17:27:32.263615",
     "status": "completed"
    },
    "tags": []
   },
   "outputs": [],
   "source": [
    "x1 = X_pca[:,1].ravel()"
   ]
  },
  {
   "cell_type": "code",
   "execution_count": 70,
   "id": "17b5c83e",
   "metadata": {
    "execution": {
     "iopub.execute_input": "2024-07-16T17:27:32.375113Z",
     "iopub.status.busy": "2024-07-16T17:27:32.374783Z",
     "iopub.status.idle": "2024-07-16T17:27:32.695630Z",
     "shell.execute_reply": "2024-07-16T17:27:32.694743Z"
    },
    "papermill": {
     "duration": 0.358443,
     "end_time": "2024-07-16T17:27:32.697728",
     "exception": false,
     "start_time": "2024-07-16T17:27:32.339285",
     "status": "completed"
    },
    "tags": []
   },
   "outputs": [
    {
     "data": {
      "text/plain": [
       "<matplotlib.collections.PathCollection at 0x7ab3e061a920>"
      ]
     },
     "execution_count": 70,
     "metadata": {},
     "output_type": "execute_result"
    },
    {
     "data": {
      "image/png": "[encoded data removed]",
      "text/plain": [
       "<Figure size 640x480 with 1 Axes>"
      ]
     },
     "metadata": {},
     "output_type": "display_data"
    }
   ],
   "source": [
    "plt.scatter(x0,x1)"
   ]
  },
  {
   "cell_type": "code",
   "execution_count": 71,
   "id": "eafe7e14",
   "metadata": {
    "execution": {
     "iopub.execute_input": "2024-07-16T17:27:32.772701Z",
     "iopub.status.busy": "2024-07-16T17:27:32.772369Z",
     "iopub.status.idle": "2024-07-16T17:27:33.170881Z",
     "shell.execute_reply": "2024-07-16T17:27:33.170020Z"
    },
    "papermill": {
     "duration": 0.440272,
     "end_time": "2024-07-16T17:27:33.173302",
     "exception": false,
     "start_time": "2024-07-16T17:27:32.733030",
     "status": "completed"
    },
    "tags": []
   },
   "outputs": [],
   "source": [
    "distortions = []\n",
    "for i in range(1, 11):\n",
    "    km = KMeans(\n",
    "        n_clusters=i, init='random',\n",
    "        n_init=10, max_iter=300,\n",
    "        tol=1e-04, random_state=0\n",
    "    )\n",
    "    km.fit(X_pca)\n",
    "    distortions.append(km.inertia_)"
   ]
  },
  {
   "cell_type": "code",
   "execution_count": 72,
   "id": "d8963b48",
   "metadata": {
    "execution": {
     "iopub.execute_input": "2024-07-16T17:27:33.247427Z",
     "iopub.status.busy": "2024-07-16T17:27:33.247056Z",
     "iopub.status.idle": "2024-07-16T17:27:33.484485Z",
     "shell.execute_reply": "2024-07-16T17:27:33.483522Z"
    },
    "papermill": {
     "duration": 0.276134,
     "end_time": "2024-07-16T17:27:33.486639",
     "exception": false,
     "start_time": "2024-07-16T17:27:33.210505",
     "status": "completed"
    },
    "tags": []
   },
   "outputs": [
    {
     "data": {
      "image/png": "[encoded data removed]",
      "text/plain": [
       "<Figure size 640x480 with 1 Axes>"
      ]
     },
     "metadata": {},
     "output_type": "display_data"
    }
   ],
   "source": [
    "plt.plot(range(1, 11), distortions, marker='o')\n",
    "plt.xlabel('Number of clusters')\n",
    "plt.ylabel('Distortion')\n",
    "plt.show()"
   ]
  },
  {
   "cell_type": "code",
   "execution_count": 73,
   "id": "07514151",
   "metadata": {
    "execution": {
     "iopub.execute_input": "2024-07-16T17:27:33.558585Z",
     "iopub.status.busy": "2024-07-16T17:27:33.558295Z",
     "iopub.status.idle": "2024-07-16T17:27:34.296304Z",
     "shell.execute_reply": "2024-07-16T17:27:34.295447Z"
    },
    "papermill": {
     "duration": 0.777693,
     "end_time": "2024-07-16T17:27:34.299815",
     "exception": false,
     "start_time": "2024-07-16T17:27:33.522122",
     "status": "completed"
    },
    "tags": []
   },
   "outputs": [],
   "source": [
    "kmeans = KMeans(n_clusters=3, random_state=0).fit(X_pca)"
   ]
  },
  {
   "cell_type": "code",
   "execution_count": 74,
   "id": "f09f63be",
   "metadata": {
    "execution": {
     "iopub.execute_input": "2024-07-16T17:27:34.421469Z",
     "iopub.status.busy": "2024-07-16T17:27:34.420793Z",
     "iopub.status.idle": "2024-07-16T17:27:34.427308Z",
     "shell.execute_reply": "2024-07-16T17:27:34.426525Z"
    },
    "papermill": {
     "duration": 0.046843,
     "end_time": "2024-07-16T17:27:34.429290",
     "exception": false,
     "start_time": "2024-07-16T17:27:34.382447",
     "status": "completed"
    },
    "tags": []
   },
   "outputs": [],
   "source": [
    "clusters = kmeans.predict(X_pca).ravel()"
   ]
  },
  {
   "cell_type": "code",
   "execution_count": 75,
   "id": "7591117f",
   "metadata": {
    "execution": {
     "iopub.execute_input": "2024-07-16T17:27:34.502904Z",
     "iopub.status.busy": "2024-07-16T17:27:34.502616Z",
     "iopub.status.idle": "2024-07-16T17:27:35.751729Z",
     "shell.execute_reply": "2024-07-16T17:27:35.750757Z"
    },
    "papermill": {
     "duration": 1.28714,
     "end_time": "2024-07-16T17:27:35.753888",
     "exception": false,
     "start_time": "2024-07-16T17:27:34.466748",
     "status": "completed"
    },
    "tags": []
   },
   "outputs": [
    {
     "data": {
      "text/plain": [
       "<Axes: >"
      ]
     },
     "execution_count": 75,
     "metadata": {},
     "output_type": "execute_result"
    },
    {
     "data": {
      "image/png": "[encoded data removed]",
      "text/plain": [
       "<Figure size 640x480 with 1 Axes>"
      ]
     },
     "metadata": {},
     "output_type": "display_data"
    }
   ],
   "source": [
    "sns.scatterplot(x=x0, y=x1, hue=clusters)"
   ]
  },
  {
   "cell_type": "code",
   "execution_count": 76,
   "id": "e2452132",
   "metadata": {
    "execution": {
     "iopub.execute_input": "2024-07-16T17:27:35.829653Z",
     "iopub.status.busy": "2024-07-16T17:27:35.828665Z",
     "iopub.status.idle": "2024-07-16T17:27:35.834233Z",
     "shell.execute_reply": "2024-07-16T17:27:35.833278Z"
    },
    "papermill": {
     "duration": 0.046381,
     "end_time": "2024-07-16T17:27:35.836740",
     "exception": false,
     "start_time": "2024-07-16T17:27:35.790359",
     "status": "completed"
    },
    "tags": []
   },
   "outputs": [],
   "source": [
    "del X_pca"
   ]
  },
  {
   "cell_type": "markdown",
   "id": "babf355c",
   "metadata": {
    "papermill": {
     "duration": 0.039218,
     "end_time": "2024-07-16T17:27:35.921656",
     "exception": false,
     "start_time": "2024-07-16T17:27:35.882438",
     "status": "completed"
    },
    "tags": []
   },
   "source": [
    "## Predictions based on machine learning\n",
    "\n",
    "Develop a machine learning model that predicts the type of product based on the text. You can use any technique you want, but you must explain what evaluation metrics you use to determine your choice of model."
   ]
  },
  {
   "cell_type": "markdown",
   "id": "c19b3fee",
   "metadata": {
    "papermill": {
     "duration": 0.035661,
     "end_time": "2024-07-16T17:27:35.993242",
     "exception": false,
     "start_time": "2024-07-16T17:27:35.957581",
     "status": "completed"
    },
    "tags": []
   },
   "source": [
    "### XGBoost\n",
    "\n",
    "- For this question I chose the XGBoost classifier. According to the article [A Gentle Introduction to XGBoost for Applied Machine Learning](https://machinelearningmastery.com/gentle-introduction-xgboost-applied-machine-learning/):\n",
    "- XGBoost is an algorithm that has recently dominated applied machine learning and Kaggle competitions for structured or tabular data.\n",
    "- XGBoost is a gradient-driven decision tree implementation designed for speed and performance.\n",
    "- The XGBoost classifier has an implementation that is capable of using a GPU device, which will allow us to considerably accelerate the training."
   ]
  },
  {
   "cell_type": "code",
   "execution_count": 77,
   "id": "8f0b3f3c",
   "metadata": {
    "execution": {
     "iopub.execute_input": "2024-07-16T17:27:36.067262Z",
     "iopub.status.busy": "2024-07-16T17:27:36.066863Z",
     "iopub.status.idle": "2024-07-16T17:27:36.072002Z",
     "shell.execute_reply": "2024-07-16T17:27:36.071122Z"
    },
    "papermill": {
     "duration": 0.043989,
     "end_time": "2024-07-16T17:27:36.073852",
     "exception": false,
     "start_time": "2024-07-16T17:27:36.029863",
     "status": "completed"
    },
    "tags": []
   },
   "outputs": [],
   "source": [
    "if gpu:\n",
    "    xgb_cl = xgb.XGBClassifier(use_label_encoder=False,\n",
    "                            tree_method='gpu_hist',\n",
    "                            max_bin = 16, \n",
    "                            predictor = 'gpu_predictor',\n",
    "                            nthread = 4\n",
    "                            )\n",
    "else:\n",
    "    xgb_cl = xgb.XGBClassifier(use_label_encoder=False)"
   ]
  },
  {
   "cell_type": "code",
   "execution_count": 78,
   "id": "b4049c2b",
   "metadata": {
    "execution": {
     "iopub.execute_input": "2024-07-16T17:27:36.148743Z",
     "iopub.status.busy": "2024-07-16T17:27:36.148375Z",
     "iopub.status.idle": "2024-07-16T17:28:20.183783Z",
     "shell.execute_reply": "2024-07-16T17:28:20.182790Z"
    },
    "papermill": {
     "duration": 44.112962,
     "end_time": "2024-07-16T17:28:20.223074",
     "exception": false,
     "start_time": "2024-07-16T17:27:36.110112",
     "status": "completed"
    },
    "tags": []
   },
   "outputs": [
    {
     "data": {
      "text/html": [
       "<style>#sk-container-id-1 {color: black;background-color: white;}#sk-container-id-1 pre{padding: 0;}#sk-container-id-1 div.sk-toggleable {background-color: white;}#sk-container-id-1 label.sk-toggleable__label {cursor: pointer;display: block;width: 100%;margin-bottom: 0;padding: 0.3em;box-sizing: border-box;text-align: center;}#sk-container-id-1 label.sk-toggleable__label-arrow:before {content: \"▸\";float: left;margin-right: 0.25em;color: #696969;}#sk-container-id-1 label.sk-toggleable__label-arrow:hover:before {color: black;}#sk-container-id-1 div.sk-estimator:hover label.sk-toggleable__label-arrow:before {color: black;}#sk-container-id-1 div.sk-toggleable__content {max-height: 0;max-width: 0;overflow: hidden;text-align: left;background-color: #f0f8ff;}#sk-container-id-1 div.sk-toggleable__content pre {margin: 0.2em;color: black;border-radius: 0.25em;background-color: #f0f8ff;}#sk-container-id-1 input.sk-toggleable__control:checked~div.sk-toggleable__content {max-height: 200px;max-width: 100%;overflow: auto;}#sk-container-id-1 input.sk-toggleable__control:checked~label.sk-toggleable__label-arrow:before {content: \"▾\";}#sk-container-id-1 div.sk-estimator input.sk-toggleable__control:checked~label.sk-toggleable__label {background-color: #d4ebff;}#sk-container-id-1 div.sk-label input.sk-toggleable__control:checked~label.sk-toggleable__label {background-color: #d4ebff;}#sk-container-id-1 input.sk-hidden--visually {border: 0;clip: rect(1px 1px 1px 1px);clip: rect(1px, 1px, 1px, 1px);height: 1px;margin: -1px;overflow: hidden;padding: 0;position: absolute;width: 1px;}#sk-container-id-1 div.sk-estimator {font-family: monospace;background-color: #f0f8ff;border: 1px dotted black;border-radius: 0.25em;box-sizing: border-box;margin-bottom: 0.5em;}#sk-container-id-1 div.sk-estimator:hover {background-color: #d4ebff;}#sk-container-id-1 div.sk-parallel-item::after {content: \"\";width: 100%;border-bottom: 1px solid gray;flex-grow: 1;}#sk-container-id-1 div.sk-label:hover label.sk-toggleable__label {background-color: #d4ebff;}#sk-container-id-1 div.sk-serial::before {content: \"\";position: absolute;border-left: 1px solid gray;box-sizing: border-box;top: 0;bottom: 0;left: 50%;z-index: 0;}#sk-container-id-1 div.sk-serial {display: flex;flex-direction: column;align-items: center;background-color: white;padding-right: 0.2em;padding-left: 0.2em;position: relative;}#sk-container-id-1 div.sk-item {position: relative;z-index: 1;}#sk-container-id-1 div.sk-parallel {display: flex;align-items: stretch;justify-content: center;background-color: white;position: relative;}#sk-container-id-1 div.sk-item::before, #sk-container-id-1 div.sk-parallel-item::before {content: \"\";position: absolute;border-left: 1px solid gray;box-sizing: border-box;top: 0;bottom: 0;left: 50%;z-index: -1;}#sk-container-id-1 div.sk-parallel-item {display: flex;flex-direction: column;z-index: 1;position: relative;background-color: white;}#sk-container-id-1 div.sk-parallel-item:first-child::after {align-self: flex-end;width: 50%;}#sk-container-id-1 div.sk-parallel-item:last-child::after {align-self: flex-start;width: 50%;}#sk-container-id-1 div.sk-parallel-item:only-child::after {width: 0;}#sk-container-id-1 div.sk-dashed-wrapped {border: 1px dashed gray;margin: 0 0.4em 0.5em 0.4em;box-sizing: border-box;padding-bottom: 0.4em;background-color: white;}#sk-container-id-1 div.sk-label label {font-family: monospace;font-weight: bold;display: inline-block;line-height: 1.2em;}#sk-container-id-1 div.sk-label-container {text-align: center;}#sk-container-id-1 div.sk-container {/* jupyter's `normalize.less` sets `[hidden] { display: none; }` but bootstrap.min.css set `[hidden] { display: none !important; }` so we also need the `!important` here to be able to override the default hidden behavior on the sphinx rendered scikit-learn.org. See: https://github.com/scikit-learn/scikit-learn/issues/21755 */display: inline-block !important;position: relative;}#sk-container-id-1 div.sk-text-repr-fallback {display: none;}</style><div id=\"sk-container-id-1\" class=\"sk-top-container\"><div class=\"sk-text-repr-fallback\"><pre>XGBClassifier(base_score=None, booster=None, callbacks=None,\n",
       "              colsample_bylevel=None, colsample_bynode=None,\n",
       "              colsample_bytree=None, device=None, early_stopping_rounds=None,\n",
       "              enable_categorical=False, eval_metric=None, feature_types=None,\n",
       "              gamma=None, grow_policy=None, importance_type=None,\n",
       "              interaction_constraints=None, learning_rate=None, max_bin=16,\n",
       "              max_cat_threshold=None, max_cat_to_onehot=None,\n",
       "              max_delta_step=None, max_depth=None, max_leaves=None,\n",
       "              min_child_weight=None, missing=nan, monotone_constraints=None,\n",
       "              multi_strategy=None, n_estimators=None, n_jobs=None, nthread=4,\n",
       "              num_parallel_tree=None, ...)</pre><b>In a Jupyter environment, please rerun this cell to show the HTML representation or trust the notebook. <br />On GitHub, the HTML representation is unable to render, please try loading this page with nbviewer.org.</b></div><div class=\"sk-container\" hidden><div class=\"sk-item\"><div class=\"sk-estimator sk-toggleable\"><input class=\"sk-toggleable__control sk-hidden--visually\" id=\"sk-estimator-id-1\" type=\"checkbox\" checked><label for=\"sk-estimator-id-1\" class=\"sk-toggleable__label sk-toggleable__label-arrow\">XGBClassifier</label><div class=\"sk-toggleable__content\"><pre>XGBClassifier(base_score=None, booster=None, callbacks=None,\n",
       "              colsample_bylevel=None, colsample_bynode=None,\n",
       "              colsample_bytree=None, device=None, early_stopping_rounds=None,\n",
       "              enable_categorical=False, eval_metric=None, feature_types=None,\n",
       "              gamma=None, grow_policy=None, importance_type=None,\n",
       "              interaction_constraints=None, learning_rate=None, max_bin=16,\n",
       "              max_cat_threshold=None, max_cat_to_onehot=None,\n",
       "              max_delta_step=None, max_depth=None, max_leaves=None,\n",
       "              min_child_weight=None, missing=nan, monotone_constraints=None,\n",
       "              multi_strategy=None, n_estimators=None, n_jobs=None, nthread=4,\n",
       "              num_parallel_tree=None, ...)</pre></div></div></div></div></div>"
      ],
      "text/plain": [
       "XGBClassifier(base_score=None, booster=None, callbacks=None,\n",
       "              colsample_bylevel=None, colsample_bynode=None,\n",
       "              colsample_bytree=None, device=None, early_stopping_rounds=None,\n",
       "              enable_categorical=False, eval_metric=None, feature_types=None,\n",
       "              gamma=None, grow_policy=None, importance_type=None,\n",
       "              interaction_constraints=None, learning_rate=None, max_bin=16,\n",
       "              max_cat_threshold=None, max_cat_to_onehot=None,\n",
       "              max_delta_step=None, max_depth=None, max_leaves=None,\n",
       "              min_child_weight=None, missing=nan, monotone_constraints=None,\n",
       "              multi_strategy=None, n_estimators=None, n_jobs=None, nthread=4,\n",
       "              num_parallel_tree=None, ...)"
      ]
     },
     "execution_count": 78,
     "metadata": {},
     "output_type": "execute_result"
    }
   ],
   "source": [
    "xgb_cl.fit(X_train, y_train)"
   ]
  },
  {
   "cell_type": "markdown",
   "id": "e2a46c46",
   "metadata": {
    "papermill": {
     "duration": 0.036265,
     "end_time": "2024-07-16T17:28:20.296332",
     "exception": false,
     "start_time": "2024-07-16T17:28:20.260067",
     "status": "completed"
    },
    "tags": []
   },
   "source": [
    "### Metrics\n",
    "Finally we will use different metrics to validate our model, comparing the predictions with the real categories of each product.\n",
    "\n",
    "We will show an automated classification reporter. Although it is beyond the scope of this report to explain each metric, it is enough to understand that the closer each metric is to 1.00, the \"better\" the model is. See [Classification Report Explained](https://williamking112.medium.com/classification-report-explained-38aa21767b3f).\n",
    "\n",
    "However, we will pay particular attention to [accuracy](https://developers.google.com/machine-learning/crash-course/classification/accuracy), which is nothing other than the correct number of predictions over the total of the predictions made."
   ]
  },
  {
   "cell_type": "code",
   "execution_count": 79,
   "id": "e27225e3",
   "metadata": {
    "execution": {
     "iopub.execute_input": "2024-07-16T17:28:20.370642Z",
     "iopub.status.busy": "2024-07-16T17:28:20.369930Z",
     "iopub.status.idle": "2024-07-16T17:28:21.896813Z",
     "shell.execute_reply": "2024-07-16T17:28:21.896026Z"
    },
    "papermill": {
     "duration": 1.566528,
     "end_time": "2024-07-16T17:28:21.899177",
     "exception": false,
     "start_time": "2024-07-16T17:28:20.332649",
     "status": "completed"
    },
    "tags": []
   },
   "outputs": [],
   "source": [
    "preds = xgb_cl.predict(X_test)"
   ]
  },
  {
   "cell_type": "code",
   "execution_count": 80,
   "id": "269f761b",
   "metadata": {
    "execution": {
     "iopub.execute_input": "2024-07-16T17:28:21.973077Z",
     "iopub.status.busy": "2024-07-16T17:28:21.972705Z",
     "iopub.status.idle": "2024-07-16T17:28:22.026614Z",
     "shell.execute_reply": "2024-07-16T17:28:22.025511Z"
    },
    "papermill": {
     "duration": 0.092924,
     "end_time": "2024-07-16T17:28:22.028737",
     "exception": false,
     "start_time": "2024-07-16T17:28:21.935813",
     "status": "completed"
    },
    "tags": []
   },
   "outputs": [
    {
     "name": "stdout",
     "output_type": "stream",
     "text": [
      "              precision    recall  f1-score   support\n",
      "\n",
      "           0       1.00      1.00      1.00      2479\n",
      "           1       1.00      0.99      0.99       543\n",
      "           2       0.98      0.99      0.99       959\n",
      "           3       0.98      0.99      0.99      2657\n",
      "           4       0.98      0.94      0.96       708\n",
      "           5       1.00      1.00      1.00      4213\n",
      "           6       0.96      1.00      0.98      3304\n",
      "           7       1.00      1.00      1.00      5904\n",
      "           8       0.98      0.96      0.97       181\n",
      "           9       0.96      0.99      0.98       161\n",
      "          10       1.00      0.99      0.99      7717\n",
      "          11       0.81      0.77      0.79        22\n",
      "          12       0.95      0.99      0.97       192\n",
      "          13       0.92      0.75      0.82       126\n",
      "          14       0.99      0.96      0.97       118\n",
      "          15       1.00      0.98      0.99      1300\n",
      "          16       0.91      0.83      0.87       167\n",
      "\n",
      "    accuracy                           0.99     30751\n",
      "   macro avg       0.97      0.95      0.96     30751\n",
      "weighted avg       0.99      0.99      0.99     30751\n",
      "\n"
     ]
    }
   ],
   "source": [
    "\n",
    "print(classification_report(y_test, preds, zero_division=0))"
   ]
  },
  {
   "cell_type": "code",
   "execution_count": 81,
   "id": "6e75e7b7",
   "metadata": {
    "execution": {
     "iopub.execute_input": "2024-07-16T17:28:22.103067Z",
     "iopub.status.busy": "2024-07-16T17:28:22.102711Z",
     "iopub.status.idle": "2024-07-16T17:28:22.110382Z",
     "shell.execute_reply": "2024-07-16T17:28:22.109491Z"
    },
    "papermill": {
     "duration": 0.046105,
     "end_time": "2024-07-16T17:28:22.112228",
     "exception": false,
     "start_time": "2024-07-16T17:28:22.066123",
     "status": "completed"
    },
    "tags": []
   },
   "outputs": [
    {
     "data": {
      "text/plain": [
       "0.9906669701798315"
      ]
     },
     "execution_count": 81,
     "metadata": {},
     "output_type": "execute_result"
    }
   ],
   "source": [
    "accuracy_score(y_test, preds)"
   ]
  },
  {
   "cell_type": "markdown",
   "id": "9873eea2",
   "metadata": {
    "papermill": {
     "duration": 0.036749,
     "end_time": "2024-07-16T17:28:22.184977",
     "exception": false,
     "start_time": "2024-07-16T17:28:22.148228",
     "status": "completed"
    },
    "tags": []
   },
   "source": [
    "# Conclusions\n",
    "\n",
    "In this project, we have built a model to predict the type of product about which a complaint has been received, based on predictors such as the bank, the subject of the complaint, and the date of receipt.\n",
    "\n",
    "Although time and computational resource restrictions limited us to analyzing a part of the set, this can be solved by accessing more resources, for example in the cloud, or using algorithms that allow working with massive data, adapting the algorithm to the available packages. For this end.\n",
    "\n",
    "Finally, our model allowed accuracy in the test set, which allows us to think that it has correctly generalized the pattern of the data, which is why it is proposed as a viable solution to the problem."
   ]
  }
 ],
 "metadata": {
  "interpreter": {
   "hash": "38458136b19f9d7bef9901b24b80b57256b2a142f0acca7c36ce0534cad2667b"
  },
  "kaggle": {
   "accelerator": "none",
   "dataSources": [
    {
     "datasetId": 24862,
     "sourceId": 31704,
     "sourceType": "datasetVersion"
    }
   ],
   "dockerImageVersionId": 30746,
   "isGpuEnabled": false,
   "isInternetEnabled": true,
   "language": "python",
   "sourceType": "notebook"
  },
  "kernelspec": {
   "display_name": "Python 3",
   "language": "python",
   "name": "python3"
  },
  "language_info": {
   "codemirror_mode": {
    "name": "ipython",
    "version": 3
   },
   "file_extension": ".py",
   "mimetype": "text/x-python",
   "name": "python",
   "nbconvert_exporter": "python",
   "pygments_lexer": "ipython3",
   "version": "3.10.13"
  },
  "papermill": {
   "default_parameters": {},
   "duration": 134.444978,
   "end_time": "2024-07-16T17:28:23.040400",
   "environment_variables": {},
   "exception": null,
   "input_path": "__notebook__.ipynb",
   "output_path": "__notebook__.ipynb",
   "parameters": {},
   "start_time": "2024-07-16T17:26:08.595422",
   "version": "2.5.0"
  }
 },
 "nbformat": 4,
 "nbformat_minor": 5
}
